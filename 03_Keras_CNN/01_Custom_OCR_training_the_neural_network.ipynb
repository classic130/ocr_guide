{
 "cells": [
  {
   "cell_type": "markdown",
   "metadata": {
    "id": "qsTIg3Uo5kqo"
   },
   "source": [
    "# Custom OCR - training the neural network\n",
    "\n"
   ]
  },
  {
   "cell_type": "markdown",
   "metadata": {
    "id": "HRdOYuPRDMwy"
   },
   "source": [
    "# Importing the libraries"
   ]
  },
  {
   "cell_type": "code",
   "execution_count": 1,
   "metadata": {
    "colab": {
     "base_uri": "https://localhost:8080/",
     "height": 37
    },
    "id": "b0BgkN3LZPuE",
    "outputId": "1b322030-fa46-47dc-d552-07cef8708993"
   },
   "outputs": [
    {
     "data": {
      "text/plain": [
       "'2.12.0'"
      ]
     },
     "execution_count": 1,
     "metadata": {},
     "output_type": "execute_result"
    }
   ],
   "source": [
    "import tensorflow\n",
    "tensorflow.__version__"
   ]
  },
  {
   "cell_type": "code",
   "execution_count": 119,
   "metadata": {
    "id": "f89bljDnZk4e"
   },
   "outputs": [],
   "source": [
    "import numpy as np\n",
    "import zipfile\n",
    "import pandas as pd\n",
    "import matplotlib.pyplot as plt\n",
    "import seaborn as sns\n",
    "from sklearn.preprocessing import LabelBinarizer\n",
    "from sklearn.model_selection import train_test_split\n",
    "from sklearn.metrics import classification_report\n",
    "import cv2"
   ]
  },
  {
   "cell_type": "code",
   "execution_count": 120,
   "metadata": {},
   "outputs": [],
   "source": [
    "#from google.colab.patches import cv2_imshow\n",
    "def cv2_imshow(img, to_rgb=True):\n",
    "    if to_rgb:\n",
    "        img = cv2.cvtColor(img, cv2.COLOR_BGR2RGB) # BGR -> RGB\n",
    "    plt.imshow(img)\n",
    "    plt.show()"
   ]
  },
  {
   "cell_type": "code",
   "execution_count": 121,
   "metadata": {},
   "outputs": [],
   "source": [
    "DATA_PATH = \"./../material/\""
   ]
  },
  {
   "cell_type": "markdown",
   "metadata": {
    "id": "lvOhfiPrDQ9W"
   },
   "source": [
    "# Loading the datasets"
   ]
  },
  {
   "cell_type": "markdown",
   "metadata": {
    "id": "f03RaQkx5a9l"
   },
   "source": [
    "## MNIST 0-9 "
   ]
  },
  {
   "cell_type": "code",
   "execution_count": 4,
   "metadata": {
    "id": "45nzppm1anZy"
   },
   "outputs": [],
   "source": [
    "from tensorflow.keras.datasets import mnist"
   ]
  },
  {
   "cell_type": "code",
   "execution_count": 5,
   "metadata": {
    "colab": {
     "base_uri": "https://localhost:8080/"
    },
    "id": "BFVGL_VWasOb",
    "outputId": "e9b03c5c-0395-4148-d69e-50d279d6f1d2"
   },
   "outputs": [
    {
     "name": "stdout",
     "output_type": "stream",
     "text": [
      "Downloading data from https://storage.googleapis.com/tensorflow/tf-keras-datasets/mnist.npz\n",
      "11490434/11490434 [==============================] - 1s 0us/step\n"
     ]
    }
   ],
   "source": [
    "(train_data, train_labels), (test_data, test_labels) = mnist.load_data()"
   ]
  },
  {
   "cell_type": "code",
   "execution_count": 6,
   "metadata": {
    "colab": {
     "base_uri": "https://localhost:8080/"
    },
    "id": "Rc3FWxEObIr1",
    "outputId": "a35538dd-5371-4ed3-a116-df9efa3e6133"
   },
   "outputs": [
    {
     "data": {
      "text/plain": [
       "((60000, 28, 28), (10000, 28, 28))"
      ]
     },
     "execution_count": 6,
     "metadata": {},
     "output_type": "execute_result"
    }
   ],
   "source": [
    "train_data.shape, test_data.shape"
   ]
  },
  {
   "cell_type": "code",
   "execution_count": 7,
   "metadata": {
    "colab": {
     "base_uri": "https://localhost:8080/"
    },
    "id": "UxSY12NcbU-_",
    "outputId": "20effefc-db8f-46cd-85a7-646082a15056"
   },
   "outputs": [
    {
     "data": {
      "text/plain": [
       "784"
      ]
     },
     "execution_count": 7,
     "metadata": {},
     "output_type": "execute_result"
    }
   ],
   "source": [
    "28 * 28"
   ]
  },
  {
   "cell_type": "code",
   "execution_count": 8,
   "metadata": {
    "colab": {
     "base_uri": "https://localhost:8080/"
    },
    "id": "1LHOBBNpbb4W",
    "outputId": "7af8c82a-6f69-4ffa-a9c9-dbafba17a661"
   },
   "outputs": [
    {
     "data": {
      "text/plain": [
       "((60000,), (10000,))"
      ]
     },
     "execution_count": 8,
     "metadata": {},
     "output_type": "execute_result"
    }
   ],
   "source": [
    "train_labels.shape, test_labels.shape"
   ]
  },
  {
   "cell_type": "code",
   "execution_count": 9,
   "metadata": {
    "colab": {
     "base_uri": "https://localhost:8080/"
    },
    "id": "DBtj3HZ8bpUE",
    "outputId": "c41ae465-0373-4799-c5c3-f7d960ea3d5a"
   },
   "outputs": [
    {
     "data": {
      "text/plain": [
       "array([[  0,   0,   0,   0,   0,   0,   0,   0,   0,   0,   0,   0,   0,\n",
       "          0,   0,   0,   0,   0,   0,   0,   0,   0,   0,   0,   0,   0,\n",
       "          0,   0],\n",
       "       [  0,   0,   0,   0,   0,   0,   0,   0,   0,   0,   0,   0,   0,\n",
       "          0,   0,   0,   0,   0,   0,   0,   0,   0,   0,   0,   0,   0,\n",
       "          0,   0],\n",
       "       [  0,   0,   0,   0,   0,   0,   0,   0,   0,   0,   0,   0,   0,\n",
       "          0,   0,   0,   0,   0,   0,   0,   0,   0,   0,   0,   0,   0,\n",
       "          0,   0],\n",
       "       [  0,   0,   0,   0,   0,   0,   0,   0,   0,   0,   0,   0,   0,\n",
       "          0,   0,   0,   0,   0,   0,   0,   0,   0,   0,   0,   0,   0,\n",
       "          0,   0],\n",
       "       [  0,   0,   0,   0,   0,   0,   0,   0,   0,   0,   0,   0,   0,\n",
       "          0,   0,   0,   0,   0,   0,   0,   0,   0,   0,   0,   0,   0,\n",
       "          0,   0],\n",
       "       [  0,   0,   0,   0,   0,   0,   0,   0,   0,   0,   0,   0,   3,\n",
       "         18,  18,  18, 126, 136, 175,  26, 166, 255, 247, 127,   0,   0,\n",
       "          0,   0],\n",
       "       [  0,   0,   0,   0,   0,   0,   0,   0,  30,  36,  94, 154, 170,\n",
       "        253, 253, 253, 253, 253, 225, 172, 253, 242, 195,  64,   0,   0,\n",
       "          0,   0],\n",
       "       [  0,   0,   0,   0,   0,   0,   0,  49, 238, 253, 253, 253, 253,\n",
       "        253, 253, 253, 253, 251,  93,  82,  82,  56,  39,   0,   0,   0,\n",
       "          0,   0],\n",
       "       [  0,   0,   0,   0,   0,   0,   0,  18, 219, 253, 253, 253, 253,\n",
       "        253, 198, 182, 247, 241,   0,   0,   0,   0,   0,   0,   0,   0,\n",
       "          0,   0],\n",
       "       [  0,   0,   0,   0,   0,   0,   0,   0,  80, 156, 107, 253, 253,\n",
       "        205,  11,   0,  43, 154,   0,   0,   0,   0,   0,   0,   0,   0,\n",
       "          0,   0],\n",
       "       [  0,   0,   0,   0,   0,   0,   0,   0,   0,  14,   1, 154, 253,\n",
       "         90,   0,   0,   0,   0,   0,   0,   0,   0,   0,   0,   0,   0,\n",
       "          0,   0],\n",
       "       [  0,   0,   0,   0,   0,   0,   0,   0,   0,   0,   0, 139, 253,\n",
       "        190,   2,   0,   0,   0,   0,   0,   0,   0,   0,   0,   0,   0,\n",
       "          0,   0],\n",
       "       [  0,   0,   0,   0,   0,   0,   0,   0,   0,   0,   0,  11, 190,\n",
       "        253,  70,   0,   0,   0,   0,   0,   0,   0,   0,   0,   0,   0,\n",
       "          0,   0],\n",
       "       [  0,   0,   0,   0,   0,   0,   0,   0,   0,   0,   0,   0,  35,\n",
       "        241, 225, 160, 108,   1,   0,   0,   0,   0,   0,   0,   0,   0,\n",
       "          0,   0],\n",
       "       [  0,   0,   0,   0,   0,   0,   0,   0,   0,   0,   0,   0,   0,\n",
       "         81, 240, 253, 253, 119,  25,   0,   0,   0,   0,   0,   0,   0,\n",
       "          0,   0],\n",
       "       [  0,   0,   0,   0,   0,   0,   0,   0,   0,   0,   0,   0,   0,\n",
       "          0,  45, 186, 253, 253, 150,  27,   0,   0,   0,   0,   0,   0,\n",
       "          0,   0],\n",
       "       [  0,   0,   0,   0,   0,   0,   0,   0,   0,   0,   0,   0,   0,\n",
       "          0,   0,  16,  93, 252, 253, 187,   0,   0,   0,   0,   0,   0,\n",
       "          0,   0],\n",
       "       [  0,   0,   0,   0,   0,   0,   0,   0,   0,   0,   0,   0,   0,\n",
       "          0,   0,   0,   0, 249, 253, 249,  64,   0,   0,   0,   0,   0,\n",
       "          0,   0],\n",
       "       [  0,   0,   0,   0,   0,   0,   0,   0,   0,   0,   0,   0,   0,\n",
       "          0,  46, 130, 183, 253, 253, 207,   2,   0,   0,   0,   0,   0,\n",
       "          0,   0],\n",
       "       [  0,   0,   0,   0,   0,   0,   0,   0,   0,   0,   0,   0,  39,\n",
       "        148, 229, 253, 253, 253, 250, 182,   0,   0,   0,   0,   0,   0,\n",
       "          0,   0],\n",
       "       [  0,   0,   0,   0,   0,   0,   0,   0,   0,   0,  24, 114, 221,\n",
       "        253, 253, 253, 253, 201,  78,   0,   0,   0,   0,   0,   0,   0,\n",
       "          0,   0],\n",
       "       [  0,   0,   0,   0,   0,   0,   0,   0,  23,  66, 213, 253, 253,\n",
       "        253, 253, 198,  81,   2,   0,   0,   0,   0,   0,   0,   0,   0,\n",
       "          0,   0],\n",
       "       [  0,   0,   0,   0,   0,   0,  18, 171, 219, 253, 253, 253, 253,\n",
       "        195,  80,   9,   0,   0,   0,   0,   0,   0,   0,   0,   0,   0,\n",
       "          0,   0],\n",
       "       [  0,   0,   0,   0,  55, 172, 226, 253, 253, 253, 253, 244, 133,\n",
       "         11,   0,   0,   0,   0,   0,   0,   0,   0,   0,   0,   0,   0,\n",
       "          0,   0],\n",
       "       [  0,   0,   0,   0, 136, 253, 253, 253, 212, 135, 132,  16,   0,\n",
       "          0,   0,   0,   0,   0,   0,   0,   0,   0,   0,   0,   0,   0,\n",
       "          0,   0],\n",
       "       [  0,   0,   0,   0,   0,   0,   0,   0,   0,   0,   0,   0,   0,\n",
       "          0,   0,   0,   0,   0,   0,   0,   0,   0,   0,   0,   0,   0,\n",
       "          0,   0],\n",
       "       [  0,   0,   0,   0,   0,   0,   0,   0,   0,   0,   0,   0,   0,\n",
       "          0,   0,   0,   0,   0,   0,   0,   0,   0,   0,   0,   0,   0,\n",
       "          0,   0],\n",
       "       [  0,   0,   0,   0,   0,   0,   0,   0,   0,   0,   0,   0,   0,\n",
       "          0,   0,   0,   0,   0,   0,   0,   0,   0,   0,   0,   0,   0,\n",
       "          0,   0]], dtype=uint8)"
      ]
     },
     "execution_count": 9,
     "metadata": {},
     "output_type": "execute_result"
    }
   ],
   "source": [
    "train_data[0]"
   ]
  },
  {
   "cell_type": "code",
   "execution_count": 10,
   "metadata": {
    "colab": {
     "base_uri": "https://localhost:8080/"
    },
    "id": "RAiOFrhOb8nG",
    "outputId": "7634eee9-5335-4112-9b89-75367dbac5ef"
   },
   "outputs": [
    {
     "data": {
      "text/plain": [
       "(28, 28)"
      ]
     },
     "execution_count": 10,
     "metadata": {},
     "output_type": "execute_result"
    }
   ],
   "source": [
    "train_data[0].shape"
   ]
  },
  {
   "cell_type": "code",
   "execution_count": 11,
   "metadata": {
    "colab": {
     "base_uri": "https://localhost:8080/"
    },
    "id": "EnEu_1JOcFkU",
    "outputId": "2f4707ab-e5bb-4609-8b32-313fe84b6953"
   },
   "outputs": [
    {
     "data": {
      "text/plain": [
       "5"
      ]
     },
     "execution_count": 11,
     "metadata": {},
     "output_type": "execute_result"
    }
   ],
   "source": [
    "train_labels[0]"
   ]
  },
  {
   "cell_type": "code",
   "execution_count": 12,
   "metadata": {
    "colab": {
     "base_uri": "https://localhost:8080/"
    },
    "id": "cSMRuFePcnNj",
    "outputId": "4a1cbb68-b327-463a-98dc-fa4622298e91"
   },
   "outputs": [
    {
     "data": {
      "text/plain": [
       "array([5, 0, 4, ..., 5, 6, 8], dtype=uint8)"
      ]
     },
     "execution_count": 12,
     "metadata": {},
     "output_type": "execute_result"
    }
   ],
   "source": [
    "train_labels"
   ]
  },
  {
   "cell_type": "code",
   "execution_count": 13,
   "metadata": {
    "id": "-3jAW0-0cURC"
   },
   "outputs": [],
   "source": [
    "digits_data = np.vstack([train_data, test_data])\n",
    "digits_labels = np.hstack([train_labels, test_labels])"
   ]
  },
  {
   "cell_type": "code",
   "execution_count": 14,
   "metadata": {
    "colab": {
     "base_uri": "https://localhost:8080/"
    },
    "id": "BclFy-Uhc2Gc",
    "outputId": "11dfee66-7256-4d01-f891-2c5c0bd924be"
   },
   "outputs": [
    {
     "data": {
      "text/plain": [
       "(70000, 28, 28)"
      ]
     },
     "execution_count": 14,
     "metadata": {},
     "output_type": "execute_result"
    }
   ],
   "source": [
    "digits_data.shape"
   ]
  },
  {
   "cell_type": "code",
   "execution_count": 19,
   "metadata": {
    "colab": {
     "base_uri": "https://localhost:8080/"
    },
    "id": "Opqlgs8Uc5lr",
    "outputId": "508fdc22-7d4e-4930-d0a7-62eddba660fe"
   },
   "outputs": [
    {
     "data": {
      "text/plain": [
       "(70000,)"
      ]
     },
     "execution_count": 19,
     "metadata": {},
     "output_type": "execute_result"
    }
   ],
   "source": [
    "digits_labels.shape"
   ]
  },
  {
   "cell_type": "code",
   "execution_count": 16,
   "metadata": {
    "colab": {
     "base_uri": "https://localhost:8080/"
    },
    "id": "AuMlsmd2dd4a",
    "outputId": "799ce4f3-a08a-463d-b47c-9a86d9fff33d"
   },
   "outputs": [
    {
     "data": {
      "text/plain": [
       "5212"
      ]
     },
     "execution_count": 16,
     "metadata": {},
     "output_type": "execute_result"
    }
   ],
   "source": [
    "np.random.randint(0, digits_data.shape[0])"
   ]
  },
  {
   "cell_type": "code",
   "execution_count": 17,
   "metadata": {
    "colab": {
     "base_uri": "https://localhost:8080/",
     "height": 281
    },
    "id": "WvVYDzWwdGN6",
    "outputId": "18291558-f960-4e36-fb5b-ff1d17d2dd55"
   },
   "outputs": [
    {
     "data": {
      "image/png": "[encoded data removed]",
      "text/plain": [
       "<Figure size 640x480 with 1 Axes>"
      ]
     },
     "metadata": {},
     "output_type": "display_data"
    }
   ],
   "source": [
    "index = np.random.randint(0, digits_data.shape[0])\n",
    "plt.imshow(digits_data[index], cmap='gray')\n",
    "plt.title('Class: ' + str(digits_labels[index]));"
   ]
  },
  {
   "cell_type": "code",
   "execution_count": 31,
   "metadata": {
    "colab": {
     "base_uri": "https://localhost:8080/",
     "height": 320
    },
    "id": "5m7h23Q9eAB2",
    "outputId": "4a18cd48-a5fd-4fb9-d38e-57aa8e66d464"
   },
   "outputs": [
    {
     "data": {
      "text/plain": [
       "<Axes: xlabel='labels', ylabel='count'>"
      ]
     },
     "execution_count": 31,
     "metadata": {},
     "output_type": "execute_result"
    },
    {
     "data": {
      "image/png": "[encoded data removed]",
      "text/plain": [
       "<Figure size 640x480 with 1 Axes>"
      ]
     },
     "metadata": {},
     "output_type": "display_data"
    }
   ],
   "source": [
    "#sns.countplot(data=digits_labels)\n",
    "df = pd.DataFrame({'labels': digits_labels})\n",
    "sns.countplot(data=df, x='labels')"
   ]
  },
  {
   "cell_type": "markdown",
   "metadata": {
    "id": "O_AA33brDfMf"
   },
   "source": [
    "## Kaggle A-Z"
   ]
  },
  {
   "cell_type": "code",
   "execution_count": 32,
   "metadata": {
    "colab": {
     "base_uri": "https://localhost:8080/"
    },
    "id": "V_k5_6dYgpq6",
    "outputId": "18da6196-de81-421b-ba33-d7a60290d67f"
   },
   "outputs": [
    {
     "name": "stderr",
     "output_type": "stream",
     "text": [
      "SYSTEM_WGETRC = c:/progra~1/wget/etc/wgetrc\n",
      "syswgetrc = C:\\Program Files (x86)\\GnuWin32/etc/wgetrc\n",
      "--2023-06-05 12:44:19--  https://iaexpert.academy/arquivos/alfabeto_A-Z.zip\n",
      "Resolving iaexpert.academy... 162.159.134.42\n",
      "Connecting to iaexpert.academy|162.159.134.42|:443... connected.\n",
      "OpenSSL: error:1407742E:SSL routines:SSL23_GET_SERVER_HELLO:tlsv1 alert protocol version\n",
      "Unable to establish SSL connection.\n"
     ]
    }
   ],
   "source": [
    "!wget https://iaexpert.academy/arquivos/alfabeto_A-Z.zip"
   ]
  },
  {
   "cell_type": "code",
   "execution_count": 33,
   "metadata": {
    "id": "A8md7Ih4hM8a"
   },
   "outputs": [],
   "source": [
    "zip_object = zipfile.ZipFile(file = './alfabeto_A-Z.zip', mode = 'r')\n",
    "zip_object.extractall('./')\n",
    "zip_object.close()"
   ]
  },
  {
   "cell_type": "code",
   "execution_count": 35,
   "metadata": {
    "colab": {
     "base_uri": "https://localhost:8080/",
     "height": 471
    },
    "id": "uffZTdxNhrWw",
    "outputId": "75c8c62f-3a33-4e5c-f010-c1a3c2af807f"
   },
   "outputs": [
    {
     "data": {
      "text/html": [
       "<div>\n",
       "<style scoped>\n",
       "    .dataframe tbody tr th:only-of-type {\n",
       "        vertical-align: middle;\n",
       "    }\n",
       "\n",
       "    .dataframe tbody tr th {\n",
       "        vertical-align: top;\n",
       "    }\n",
       "\n",
       "    .dataframe thead th {\n",
       "        text-align: right;\n",
       "    }\n",
       "</style>\n",
       "<table border=\"1\" class=\"dataframe\">\n",
       "  <thead>\n",
       "    <tr style=\"text-align: right;\">\n",
       "      <th></th>\n",
       "      <th>0</th>\n",
       "      <th>0.1</th>\n",
       "      <th>0.2</th>\n",
       "      <th>0.3</th>\n",
       "      <th>0.4</th>\n",
       "      <th>0.5</th>\n",
       "      <th>0.6</th>\n",
       "      <th>0.7</th>\n",
       "      <th>0.8</th>\n",
       "      <th>0.9</th>\n",
       "      <th>...</th>\n",
       "      <th>0.639</th>\n",
       "      <th>0.640</th>\n",
       "      <th>0.641</th>\n",
       "      <th>0.642</th>\n",
       "      <th>0.643</th>\n",
       "      <th>0.644</th>\n",
       "      <th>0.645</th>\n",
       "      <th>0.646</th>\n",
       "      <th>0.647</th>\n",
       "      <th>0.648</th>\n",
       "    </tr>\n",
       "  </thead>\n",
       "  <tbody>\n",
       "    <tr>\n",
       "      <th>0</th>\n",
       "      <td>0.0</td>\n",
       "      <td>0.0</td>\n",
       "      <td>0.0</td>\n",
       "      <td>0.0</td>\n",
       "      <td>0.0</td>\n",
       "      <td>0.0</td>\n",
       "      <td>0.0</td>\n",
       "      <td>0.0</td>\n",
       "      <td>0.0</td>\n",
       "      <td>0.0</td>\n",
       "      <td>...</td>\n",
       "      <td>0.0</td>\n",
       "      <td>0.0</td>\n",
       "      <td>0.0</td>\n",
       "      <td>0.0</td>\n",
       "      <td>0.0</td>\n",
       "      <td>0.0</td>\n",
       "      <td>0.0</td>\n",
       "      <td>0.0</td>\n",
       "      <td>0.0</td>\n",
       "      <td>0.0</td>\n",
       "    </tr>\n",
       "    <tr>\n",
       "      <th>1</th>\n",
       "      <td>0.0</td>\n",
       "      <td>0.0</td>\n",
       "      <td>0.0</td>\n",
       "      <td>0.0</td>\n",
       "      <td>0.0</td>\n",
       "      <td>0.0</td>\n",
       "      <td>0.0</td>\n",
       "      <td>0.0</td>\n",
       "      <td>0.0</td>\n",
       "      <td>0.0</td>\n",
       "      <td>...</td>\n",
       "      <td>0.0</td>\n",
       "      <td>0.0</td>\n",
       "      <td>0.0</td>\n",
       "      <td>0.0</td>\n",
       "      <td>0.0</td>\n",
       "      <td>0.0</td>\n",
       "      <td>0.0</td>\n",
       "      <td>0.0</td>\n",
       "      <td>0.0</td>\n",
       "      <td>0.0</td>\n",
       "    </tr>\n",
       "    <tr>\n",
       "      <th>2</th>\n",
       "      <td>0.0</td>\n",
       "      <td>0.0</td>\n",
       "      <td>0.0</td>\n",
       "      <td>0.0</td>\n",
       "      <td>0.0</td>\n",
       "      <td>0.0</td>\n",
       "      <td>0.0</td>\n",
       "      <td>0.0</td>\n",
       "      <td>0.0</td>\n",
       "      <td>0.0</td>\n",
       "      <td>...</td>\n",
       "      <td>0.0</td>\n",
       "      <td>0.0</td>\n",
       "      <td>0.0</td>\n",
       "      <td>0.0</td>\n",
       "      <td>0.0</td>\n",
       "      <td>0.0</td>\n",
       "      <td>0.0</td>\n",
       "      <td>0.0</td>\n",
       "      <td>0.0</td>\n",
       "      <td>0.0</td>\n",
       "    </tr>\n",
       "    <tr>\n",
       "      <th>3</th>\n",
       "      <td>0.0</td>\n",
       "      <td>0.0</td>\n",
       "      <td>0.0</td>\n",
       "      <td>0.0</td>\n",
       "      <td>0.0</td>\n",
       "      <td>0.0</td>\n",
       "      <td>0.0</td>\n",
       "      <td>0.0</td>\n",
       "      <td>0.0</td>\n",
       "      <td>0.0</td>\n",
       "      <td>...</td>\n",
       "      <td>0.0</td>\n",
       "      <td>0.0</td>\n",
       "      <td>0.0</td>\n",
       "      <td>0.0</td>\n",
       "      <td>0.0</td>\n",
       "      <td>0.0</td>\n",
       "      <td>0.0</td>\n",
       "      <td>0.0</td>\n",
       "      <td>0.0</td>\n",
       "      <td>0.0</td>\n",
       "    </tr>\n",
       "    <tr>\n",
       "      <th>4</th>\n",
       "      <td>0.0</td>\n",
       "      <td>0.0</td>\n",
       "      <td>0.0</td>\n",
       "      <td>0.0</td>\n",
       "      <td>0.0</td>\n",
       "      <td>0.0</td>\n",
       "      <td>0.0</td>\n",
       "      <td>0.0</td>\n",
       "      <td>0.0</td>\n",
       "      <td>0.0</td>\n",
       "      <td>...</td>\n",
       "      <td>0.0</td>\n",
       "      <td>0.0</td>\n",
       "      <td>0.0</td>\n",
       "      <td>0.0</td>\n",
       "      <td>0.0</td>\n",
       "      <td>0.0</td>\n",
       "      <td>0.0</td>\n",
       "      <td>0.0</td>\n",
       "      <td>0.0</td>\n",
       "      <td>0.0</td>\n",
       "    </tr>\n",
       "    <tr>\n",
       "      <th>...</th>\n",
       "      <td>...</td>\n",
       "      <td>...</td>\n",
       "      <td>...</td>\n",
       "      <td>...</td>\n",
       "      <td>...</td>\n",
       "      <td>...</td>\n",
       "      <td>...</td>\n",
       "      <td>...</td>\n",
       "      <td>...</td>\n",
       "      <td>...</td>\n",
       "      <td>...</td>\n",
       "      <td>...</td>\n",
       "      <td>...</td>\n",
       "      <td>...</td>\n",
       "      <td>...</td>\n",
       "      <td>...</td>\n",
       "      <td>...</td>\n",
       "      <td>...</td>\n",
       "      <td>...</td>\n",
       "      <td>...</td>\n",
       "      <td>...</td>\n",
       "    </tr>\n",
       "    <tr>\n",
       "      <th>372445</th>\n",
       "      <td>25.0</td>\n",
       "      <td>0.0</td>\n",
       "      <td>0.0</td>\n",
       "      <td>0.0</td>\n",
       "      <td>0.0</td>\n",
       "      <td>0.0</td>\n",
       "      <td>0.0</td>\n",
       "      <td>0.0</td>\n",
       "      <td>0.0</td>\n",
       "      <td>0.0</td>\n",
       "      <td>...</td>\n",
       "      <td>0.0</td>\n",
       "      <td>0.0</td>\n",
       "      <td>0.0</td>\n",
       "      <td>0.0</td>\n",
       "      <td>0.0</td>\n",
       "      <td>0.0</td>\n",
       "      <td>0.0</td>\n",
       "      <td>0.0</td>\n",
       "      <td>0.0</td>\n",
       "      <td>0.0</td>\n",
       "    </tr>\n",
       "    <tr>\n",
       "      <th>372446</th>\n",
       "      <td>25.0</td>\n",
       "      <td>0.0</td>\n",
       "      <td>0.0</td>\n",
       "      <td>0.0</td>\n",
       "      <td>0.0</td>\n",
       "      <td>0.0</td>\n",
       "      <td>0.0</td>\n",
       "      <td>0.0</td>\n",
       "      <td>0.0</td>\n",
       "      <td>0.0</td>\n",
       "      <td>...</td>\n",
       "      <td>0.0</td>\n",
       "      <td>0.0</td>\n",
       "      <td>0.0</td>\n",
       "      <td>0.0</td>\n",
       "      <td>0.0</td>\n",
       "      <td>0.0</td>\n",
       "      <td>0.0</td>\n",
       "      <td>0.0</td>\n",
       "      <td>0.0</td>\n",
       "      <td>0.0</td>\n",
       "    </tr>\n",
       "    <tr>\n",
       "      <th>372447</th>\n",
       "      <td>25.0</td>\n",
       "      <td>0.0</td>\n",
       "      <td>0.0</td>\n",
       "      <td>0.0</td>\n",
       "      <td>0.0</td>\n",
       "      <td>0.0</td>\n",
       "      <td>0.0</td>\n",
       "      <td>0.0</td>\n",
       "      <td>0.0</td>\n",
       "      <td>0.0</td>\n",
       "      <td>...</td>\n",
       "      <td>0.0</td>\n",
       "      <td>0.0</td>\n",
       "      <td>0.0</td>\n",
       "      <td>0.0</td>\n",
       "      <td>0.0</td>\n",
       "      <td>0.0</td>\n",
       "      <td>0.0</td>\n",
       "      <td>0.0</td>\n",
       "      <td>0.0</td>\n",
       "      <td>0.0</td>\n",
       "    </tr>\n",
       "    <tr>\n",
       "      <th>372448</th>\n",
       "      <td>25.0</td>\n",
       "      <td>0.0</td>\n",
       "      <td>0.0</td>\n",
       "      <td>0.0</td>\n",
       "      <td>0.0</td>\n",
       "      <td>0.0</td>\n",
       "      <td>0.0</td>\n",
       "      <td>0.0</td>\n",
       "      <td>0.0</td>\n",
       "      <td>0.0</td>\n",
       "      <td>...</td>\n",
       "      <td>0.0</td>\n",
       "      <td>0.0</td>\n",
       "      <td>0.0</td>\n",
       "      <td>0.0</td>\n",
       "      <td>0.0</td>\n",
       "      <td>0.0</td>\n",
       "      <td>0.0</td>\n",
       "      <td>0.0</td>\n",
       "      <td>0.0</td>\n",
       "      <td>0.0</td>\n",
       "    </tr>\n",
       "    <tr>\n",
       "      <th>372449</th>\n",
       "      <td>25.0</td>\n",
       "      <td>0.0</td>\n",
       "      <td>0.0</td>\n",
       "      <td>0.0</td>\n",
       "      <td>0.0</td>\n",
       "      <td>0.0</td>\n",
       "      <td>0.0</td>\n",
       "      <td>0.0</td>\n",
       "      <td>0.0</td>\n",
       "      <td>0.0</td>\n",
       "      <td>...</td>\n",
       "      <td>0.0</td>\n",
       "      <td>0.0</td>\n",
       "      <td>0.0</td>\n",
       "      <td>0.0</td>\n",
       "      <td>0.0</td>\n",
       "      <td>0.0</td>\n",
       "      <td>0.0</td>\n",
       "      <td>0.0</td>\n",
       "      <td>0.0</td>\n",
       "      <td>0.0</td>\n",
       "    </tr>\n",
       "  </tbody>\n",
       "</table>\n",
       "<p>372450 rows × 785 columns</p>\n",
       "</div>"
      ],
      "text/plain": [
       "           0  0.1  0.2  0.3  0.4  0.5  0.6  0.7  0.8  0.9  ...  0.639  0.640  \\\n",
       "0        0.0  0.0  0.0  0.0  0.0  0.0  0.0  0.0  0.0  0.0  ...    0.0    0.0   \n",
       "1        0.0  0.0  0.0  0.0  0.0  0.0  0.0  0.0  0.0  0.0  ...    0.0    0.0   \n",
       "2        0.0  0.0  0.0  0.0  0.0  0.0  0.0  0.0  0.0  0.0  ...    0.0    0.0   \n",
       "3        0.0  0.0  0.0  0.0  0.0  0.0  0.0  0.0  0.0  0.0  ...    0.0    0.0   \n",
       "4        0.0  0.0  0.0  0.0  0.0  0.0  0.0  0.0  0.0  0.0  ...    0.0    0.0   \n",
       "...      ...  ...  ...  ...  ...  ...  ...  ...  ...  ...  ...    ...    ...   \n",
       "372445  25.0  0.0  0.0  0.0  0.0  0.0  0.0  0.0  0.0  0.0  ...    0.0    0.0   \n",
       "372446  25.0  0.0  0.0  0.0  0.0  0.0  0.0  0.0  0.0  0.0  ...    0.0    0.0   \n",
       "372447  25.0  0.0  0.0  0.0  0.0  0.0  0.0  0.0  0.0  0.0  ...    0.0    0.0   \n",
       "372448  25.0  0.0  0.0  0.0  0.0  0.0  0.0  0.0  0.0  0.0  ...    0.0    0.0   \n",
       "372449  25.0  0.0  0.0  0.0  0.0  0.0  0.0  0.0  0.0  0.0  ...    0.0    0.0   \n",
       "\n",
       "        0.641  0.642  0.643  0.644  0.645  0.646  0.647  0.648  \n",
       "0         0.0    0.0    0.0    0.0    0.0    0.0    0.0    0.0  \n",
       "1         0.0    0.0    0.0    0.0    0.0    0.0    0.0    0.0  \n",
       "2         0.0    0.0    0.0    0.0    0.0    0.0    0.0    0.0  \n",
       "3         0.0    0.0    0.0    0.0    0.0    0.0    0.0    0.0  \n",
       "4         0.0    0.0    0.0    0.0    0.0    0.0    0.0    0.0  \n",
       "...       ...    ...    ...    ...    ...    ...    ...    ...  \n",
       "372445    0.0    0.0    0.0    0.0    0.0    0.0    0.0    0.0  \n",
       "372446    0.0    0.0    0.0    0.0    0.0    0.0    0.0    0.0  \n",
       "372447    0.0    0.0    0.0    0.0    0.0    0.0    0.0    0.0  \n",
       "372448    0.0    0.0    0.0    0.0    0.0    0.0    0.0    0.0  \n",
       "372449    0.0    0.0    0.0    0.0    0.0    0.0    0.0    0.0  \n",
       "\n",
       "[372450 rows x 785 columns]"
      ]
     },
     "execution_count": 35,
     "metadata": {},
     "output_type": "execute_result"
    }
   ],
   "source": [
    "dataset_az = pd.read_csv('./A_Z Handwritten Data.csv').astype('float32')\n",
    "dataset_az"
   ]
  },
  {
   "cell_type": "code",
   "execution_count": 36,
   "metadata": {
    "id": "MGhmrUzkiw2n"
   },
   "outputs": [],
   "source": [
    "alphabet_data = dataset_az.drop('0', axis = 1)\n",
    "alphabet_labels = dataset_az['0']"
   ]
  },
  {
   "cell_type": "code",
   "execution_count": 37,
   "metadata": {
    "colab": {
     "base_uri": "https://localhost:8080/"
    },
    "id": "8bQqCH7sjJeu",
    "outputId": "4243e3e0-87bb-4c5a-c8d8-ef2291e20011"
   },
   "outputs": [
    {
     "data": {
      "text/plain": [
       "((372450, 784), (372450,))"
      ]
     },
     "execution_count": 37,
     "metadata": {},
     "output_type": "execute_result"
    }
   ],
   "source": [
    "alphabet_data.shape, alphabet_labels.shape"
   ]
  },
  {
   "cell_type": "code",
   "execution_count": 38,
   "metadata": {
    "colab": {
     "base_uri": "https://localhost:8080/"
    },
    "id": "1JIn_3P1jeQU",
    "outputId": "377822af-3bb8-4b63-c908-5cac0d78259d"
   },
   "outputs": [
    {
     "data": {
      "text/plain": [
       "0          0.0\n",
       "1          0.0\n",
       "2          0.0\n",
       "3          0.0\n",
       "4          0.0\n",
       "          ... \n",
       "372445    25.0\n",
       "372446    25.0\n",
       "372447    25.0\n",
       "372448    25.0\n",
       "372449    25.0\n",
       "Name: 0, Length: 372450, dtype: float32"
      ]
     },
     "execution_count": 38,
     "metadata": {},
     "output_type": "execute_result"
    }
   ],
   "source": [
    "alphabet_labels"
   ]
  },
  {
   "cell_type": "code",
   "execution_count": 39,
   "metadata": {
    "id": "LIrJCdfCjrCN"
   },
   "outputs": [],
   "source": [
    "alphabet_data = np.reshape(alphabet_data.values, (alphabet_data.shape[0], 28, 28))"
   ]
  },
  {
   "cell_type": "code",
   "execution_count": 40,
   "metadata": {
    "colab": {
     "base_uri": "https://localhost:8080/"
    },
    "id": "qPM3gNHfj2Mu",
    "outputId": "daf20998-5233-4c56-fc03-a4abd794f07a"
   },
   "outputs": [
    {
     "data": {
      "text/plain": [
       "(372450, 28, 28)"
      ]
     },
     "execution_count": 40,
     "metadata": {},
     "output_type": "execute_result"
    }
   ],
   "source": [
    "alphabet_data.shape"
   ]
  },
  {
   "cell_type": "code",
   "execution_count": 41,
   "metadata": {
    "colab": {
     "base_uri": "https://localhost:8080/",
     "height": 281
    },
    "id": "FkZbBBMEj9R4",
    "outputId": "93d40a2d-0e21-4c26-c4fa-aef49ac6939b"
   },
   "outputs": [
    {
     "data": {
      "image/png": "[encoded data removed]",
      "text/plain": [
       "<Figure size 640x480 with 1 Axes>"
      ]
     },
     "metadata": {},
     "output_type": "display_data"
    }
   ],
   "source": [
    "index = np.random.randint(0, alphabet_data.shape[0])\n",
    "plt.imshow(alphabet_data[index], cmap = 'gray')\n",
    "plt.title('Class: ' + str(alphabet_labels[index]));"
   ]
  },
  {
   "cell_type": "code",
   "execution_count": 43,
   "metadata": {
    "colab": {
     "base_uri": "https://localhost:8080/",
     "height": 336
    },
    "id": "waz8-pbkkg8r",
    "outputId": "797ab067-fff9-4b74-9a66-42c30e9d69bc"
   },
   "outputs": [
    {
     "data": {
      "text/plain": [
       "<Axes: xlabel='labels', ylabel='count'>"
      ]
     },
     "execution_count": 43,
     "metadata": {},
     "output_type": "execute_result"
    },
    {
     "data": {
      "image/png": "[encoded data removed]",
      "text/plain": [
       "<Figure size 640x480 with 1 Axes>"
      ]
     },
     "metadata": {},
     "output_type": "display_data"
    }
   ],
   "source": [
    "#sns.countplot(alphabet_labels)\n",
    "df = pd.DataFrame({'labels': alphabet_labels})\n",
    "sns.countplot(data=df, x='labels')"
   ]
  },
  {
   "cell_type": "markdown",
   "metadata": {
    "id": "TYUti9xDpE0x"
   },
   "source": [
    "## Joining the datasets"
   ]
  },
  {
   "cell_type": "code",
   "execution_count": 44,
   "metadata": {
    "colab": {
     "base_uri": "https://localhost:8080/"
    },
    "id": "F14UrpRClnzY",
    "outputId": "c6fa9236-91a3-4621-dfd4-62754ad19cdf"
   },
   "outputs": [
    {
     "data": {
      "text/plain": [
       "(array([5, 0, 4, ..., 4, 5, 6], dtype=uint8),\n",
       " array([0, 1, 2, 3, 4, 5, 6, 7, 8, 9], dtype=uint8))"
      ]
     },
     "execution_count": 44,
     "metadata": {},
     "output_type": "execute_result"
    }
   ],
   "source": [
    "digits_labels, np.unique(digits_labels)"
   ]
  },
  {
   "cell_type": "code",
   "execution_count": 45,
   "metadata": {
    "colab": {
     "base_uri": "https://localhost:8080/"
    },
    "id": "5CPwx7z2lynm",
    "outputId": "ecf72d9b-0478-4785-fb61-01474631b9d8"
   },
   "outputs": [
    {
     "data": {
      "text/plain": [
       "(0          0.0\n",
       " 1          0.0\n",
       " 2          0.0\n",
       " 3          0.0\n",
       " 4          0.0\n",
       "           ... \n",
       " 372445    25.0\n",
       " 372446    25.0\n",
       " 372447    25.0\n",
       " 372448    25.0\n",
       " 372449    25.0\n",
       " Name: 0, Length: 372450, dtype: float32,\n",
       " array([ 0.,  1.,  2.,  3.,  4.,  5.,  6.,  7.,  8.,  9., 10., 11., 12.,\n",
       "        13., 14., 15., 16., 17., 18., 19., 20., 21., 22., 23., 24., 25.],\n",
       "       dtype=float32))"
      ]
     },
     "execution_count": 45,
     "metadata": {},
     "output_type": "execute_result"
    }
   ],
   "source": [
    "alphabet_labels, np.unique(alphabet_labels)"
   ]
  },
  {
   "cell_type": "code",
   "execution_count": 46,
   "metadata": {
    "id": "L8Y_DlNOmHZt"
   },
   "outputs": [],
   "source": [
    "alphabet_labels += 10"
   ]
  },
  {
   "cell_type": "code",
   "execution_count": 47,
   "metadata": {
    "colab": {
     "base_uri": "https://localhost:8080/"
    },
    "id": "FTqyeMGImMYw",
    "outputId": "447e8ee2-c64b-45f8-f712-2ceeda473dfb"
   },
   "outputs": [
    {
     "data": {
      "text/plain": [
       "(0         10.0\n",
       " 1         10.0\n",
       " 2         10.0\n",
       " 3         10.0\n",
       " 4         10.0\n",
       "           ... \n",
       " 372445    35.0\n",
       " 372446    35.0\n",
       " 372447    35.0\n",
       " 372448    35.0\n",
       " 372449    35.0\n",
       " Name: 0, Length: 372450, dtype: float32,\n",
       " array([10., 11., 12., 13., 14., 15., 16., 17., 18., 19., 20., 21., 22.,\n",
       "        23., 24., 25., 26., 27., 28., 29., 30., 31., 32., 33., 34., 35.],\n",
       "       dtype=float32))"
      ]
     },
     "execution_count": 47,
     "metadata": {},
     "output_type": "execute_result"
    }
   ],
   "source": [
    "alphabet_labels, np.unique(alphabet_labels)"
   ]
  },
  {
   "cell_type": "code",
   "execution_count": 48,
   "metadata": {
    "id": "iwxxo2RLmRWN"
   },
   "outputs": [],
   "source": [
    "data = np.vstack([alphabet_data, digits_data])\n",
    "labels = np.hstack([alphabet_labels, digits_labels])"
   ]
  },
  {
   "cell_type": "code",
   "execution_count": 49,
   "metadata": {
    "colab": {
     "base_uri": "https://localhost:8080/"
    },
    "id": "6CNTaisjmdMA",
    "outputId": "e3b4543c-ce2d-4cc5-9482-cd7c18b546db"
   },
   "outputs": [
    {
     "data": {
      "text/plain": [
       "((442450, 28, 28), (442450,))"
      ]
     },
     "execution_count": 49,
     "metadata": {},
     "output_type": "execute_result"
    }
   ],
   "source": [
    "data.shape, labels.shape"
   ]
  },
  {
   "cell_type": "code",
   "execution_count": 50,
   "metadata": {
    "colab": {
     "base_uri": "https://localhost:8080/"
    },
    "id": "3iCfGL39mlAP",
    "outputId": "214d443a-7611-4131-ac70-da7f713efebc"
   },
   "outputs": [
    {
     "data": {
      "text/plain": [
       "array([ 0.,  1.,  2.,  3.,  4.,  5.,  6.,  7.,  8.,  9., 10., 11., 12.,\n",
       "       13., 14., 15., 16., 17., 18., 19., 20., 21., 22., 23., 24., 25.,\n",
       "       26., 27., 28., 29., 30., 31., 32., 33., 34., 35.], dtype=float32)"
      ]
     },
     "execution_count": 50,
     "metadata": {},
     "output_type": "execute_result"
    }
   ],
   "source": [
    "np.unique(labels)"
   ]
  },
  {
   "cell_type": "code",
   "execution_count": 51,
   "metadata": {
    "id": "TFkdl96qmtxK"
   },
   "outputs": [],
   "source": [
    "data = np.array(data, dtype = 'float32')"
   ]
  },
  {
   "cell_type": "code",
   "execution_count": 52,
   "metadata": {
    "id": "PBAlrAGSm0sp"
   },
   "outputs": [],
   "source": [
    "data = np.expand_dims(data, axis = -1)"
   ]
  },
  {
   "cell_type": "code",
   "execution_count": 53,
   "metadata": {
    "colab": {
     "base_uri": "https://localhost:8080/"
    },
    "id": "AKHHGtzunNMT",
    "outputId": "671e17c5-65b8-49c8-ef65-5b8d33d4e9c3"
   },
   "outputs": [
    {
     "data": {
      "text/plain": [
       "(442450, 28, 28, 1)"
      ]
     },
     "execution_count": 53,
     "metadata": {},
     "output_type": "execute_result"
    }
   ],
   "source": [
    "data.shape"
   ]
  },
  {
   "cell_type": "markdown",
   "metadata": {
    "id": "SQhy9bL_QqeL"
   },
   "source": [
    "# Pre-processing the data"
   ]
  },
  {
   "cell_type": "code",
   "execution_count": 54,
   "metadata": {
    "colab": {
     "base_uri": "https://localhost:8080/"
    },
    "id": "OW08tXizp7TC",
    "outputId": "aeb9b1ed-df83-4392-c60b-d9d9964544c3"
   },
   "outputs": [
    {
     "data": {
      "text/plain": [
       "(0.0, 255.0)"
      ]
     },
     "execution_count": 54,
     "metadata": {},
     "output_type": "execute_result"
    }
   ],
   "source": [
    "data[0].min(), data[0].max()"
   ]
  },
  {
   "cell_type": "code",
   "execution_count": 55,
   "metadata": {
    "id": "XdAQaDUCqREE"
   },
   "outputs": [],
   "source": [
    "data /= 255.0"
   ]
  },
  {
   "cell_type": "code",
   "execution_count": 56,
   "metadata": {
    "colab": {
     "base_uri": "https://localhost:8080/"
    },
    "id": "JZItm0RoqWtb",
    "outputId": "1d6988ab-20bc-4b64-fcec-1fb9f118fb9d"
   },
   "outputs": [
    {
     "data": {
      "text/plain": [
       "(0.0, 1.0)"
      ]
     },
     "execution_count": 56,
     "metadata": {},
     "output_type": "execute_result"
    }
   ],
   "source": [
    "data[0].min(), data[0].max()"
   ]
  },
  {
   "cell_type": "code",
   "execution_count": 57,
   "metadata": {
    "colab": {
     "base_uri": "https://localhost:8080/"
    },
    "id": "FEryMT6lqa7H",
    "outputId": "9536b174-e52b-4034-9012-bfdc27b04b4a"
   },
   "outputs": [
    {
     "data": {
      "text/plain": [
       "(array([ 0.,  1.,  2.,  3.,  4.,  5.,  6.,  7.,  8.,  9., 10., 11., 12.,\n",
       "        13., 14., 15., 16., 17., 18., 19., 20., 21., 22., 23., 24., 25.,\n",
       "        26., 27., 28., 29., 30., 31., 32., 33., 34., 35.], dtype=float32),\n",
       " 36)"
      ]
     },
     "execution_count": 57,
     "metadata": {},
     "output_type": "execute_result"
    }
   ],
   "source": [
    "np.unique(labels), len(np.unique(labels)) # softmax"
   ]
  },
  {
   "cell_type": "code",
   "execution_count": 58,
   "metadata": {
    "id": "BnU1aGD7q73A"
   },
   "outputs": [],
   "source": [
    "le = LabelBinarizer()\n",
    "labels = le.fit_transform(labels)"
   ]
  },
  {
   "cell_type": "code",
   "execution_count": 59,
   "metadata": {
    "colab": {
     "base_uri": "https://localhost:8080/"
    },
    "id": "LeCYZLyGrFLD",
    "outputId": "f1b52f8a-6afe-4377-b5b3-71606b8685e4"
   },
   "outputs": [
    {
     "data": {
      "text/plain": [
       "array([0, 1])"
      ]
     },
     "execution_count": 59,
     "metadata": {},
     "output_type": "execute_result"
    }
   ],
   "source": [
    "np.unique(labels)"
   ]
  },
  {
   "cell_type": "code",
   "execution_count": 60,
   "metadata": {
    "colab": {
     "base_uri": "https://localhost:8080/"
    },
    "id": "V_Hq41UVrLR-",
    "outputId": "4ef6f36a-ab47-4a61-f194-726d6052c0b4"
   },
   "outputs": [
    {
     "data": {
      "text/plain": [
       "array([[0, 0, 0, ..., 0, 0, 0],\n",
       "       [0, 0, 0, ..., 0, 0, 0],\n",
       "       [0, 0, 0, ..., 0, 0, 0],\n",
       "       ...,\n",
       "       [0, 0, 0, ..., 0, 0, 0],\n",
       "       [0, 0, 0, ..., 0, 0, 0],\n",
       "       [0, 0, 0, ..., 0, 0, 0]])"
      ]
     },
     "execution_count": 60,
     "metadata": {},
     "output_type": "execute_result"
    }
   ],
   "source": [
    "labels"
   ]
  },
  {
   "cell_type": "code",
   "execution_count": 61,
   "metadata": {
    "colab": {
     "base_uri": "https://localhost:8080/"
    },
    "id": "YmNBRWrHrNkD",
    "outputId": "48553b4d-112c-45b0-f2be-4db9e44c595a"
   },
   "outputs": [
    {
     "data": {
      "text/plain": [
       "(array([0, 0, 0, 0, 0, 0, 0, 0, 0, 0, 1, 0, 0, 0, 0, 0, 0, 0, 0, 0, 0, 0,\n",
       "        0, 0, 0, 0, 0, 0, 0, 0, 0, 0, 0, 0, 0, 0]),\n",
       " 36)"
      ]
     },
     "execution_count": 61,
     "metadata": {},
     "output_type": "execute_result"
    }
   ],
   "source": [
    "labels[0], len(labels[0])"
   ]
  },
  {
   "cell_type": "code",
   "execution_count": 62,
   "metadata": {
    "colab": {
     "base_uri": "https://localhost:8080/"
    },
    "id": "YT2MlP-OriUK",
    "outputId": "a3fd24fb-0f8c-4c07-a594-67edbd692829"
   },
   "outputs": [
    {
     "data": {
      "text/plain": [
       "array([0, 0, 0, 0, 0, 0, 0, 0, 0, 0, 0, 0, 1, 0, 0, 0, 0, 0, 0, 0, 0, 0,\n",
       "       0, 0, 0, 0, 0, 0, 0, 0, 0, 0, 0, 0, 0, 0])"
      ]
     },
     "execution_count": 62,
     "metadata": {},
     "output_type": "execute_result"
    }
   ],
   "source": [
    "labels[30000]"
   ]
  },
  {
   "cell_type": "code",
   "execution_count": 63,
   "metadata": {
    "id": "cWoMNZsYrrcc"
   },
   "outputs": [],
   "source": [
    "# OneHotEncoder\n",
    "# A, B, C\n",
    "# 0, 1, 2\n",
    "\n",
    "# A, B, C\n",
    "# 1, 0, 0\n",
    "# 0, 1, 0\n",
    "# 0, 0, 1"
   ]
  },
  {
   "cell_type": "code",
   "execution_count": 64,
   "metadata": {
    "colab": {
     "base_uri": "https://localhost:8080/",
     "height": 281
    },
    "id": "A4W3GxJAsQcj",
    "outputId": "afeb1852-7427-4f2b-a4e3-5e22521371a4"
   },
   "outputs": [
    {
     "data": {
      "image/png": "[encoded data removed]",
      "text/plain": [
       "<Figure size 640x480 with 1 Axes>"
      ]
     },
     "metadata": {},
     "output_type": "display_data"
    }
   ],
   "source": [
    "plt.imshow(data[0].reshape(28,28), cmap='gray')\n",
    "plt.title(str(labels[0]));"
   ]
  },
  {
   "cell_type": "code",
   "execution_count": 65,
   "metadata": {
    "colab": {
     "base_uri": "https://localhost:8080/"
    },
    "id": "W-tqTPWFs6aT",
    "outputId": "cefcec7d-251f-4e76-9f89-bc95e603f8c8"
   },
   "outputs": [
    {
     "data": {
      "text/plain": [
       "array([ 6903,  7877,  6990,  7141,  6824,  6313,  6876,  7293,  6825,\n",
       "        6958, 13869,  8668, 23409, 10134, 11440,  1163,  5762,  7218,\n",
       "        1120,  8493,  5603, 11586, 12336, 19010, 57825, 19341,  5812,\n",
       "       11566, 48419, 22495, 29008,  4182, 10784,  6272, 10859,  6076])"
      ]
     },
     "execution_count": 65,
     "metadata": {},
     "output_type": "execute_result"
    }
   ],
   "source": [
    "classes_total = labels.sum(axis = 0)\n",
    "classes_total"
   ]
  },
  {
   "cell_type": "code",
   "execution_count": 66,
   "metadata": {
    "colab": {
     "base_uri": "https://localhost:8080/"
    },
    "id": "3oW946altOGw",
    "outputId": "62d28e39-2800-40eb-9c55-14c2ca2bcead"
   },
   "outputs": [
    {
     "data": {
      "text/plain": [
       "57825"
      ]
     },
     "execution_count": 66,
     "metadata": {},
     "output_type": "execute_result"
    }
   ],
   "source": [
    "classes_total.max()"
   ]
  },
  {
   "cell_type": "code",
   "execution_count": 67,
   "metadata": {
    "colab": {
     "base_uri": "https://localhost:8080/"
    },
    "id": "X05iy_vquGcL",
    "outputId": "47ca78b6-d5c6-45f6-86e2-a4c2d0b44e80"
   },
   "outputs": [
    {
     "data": {
      "text/plain": [
       "8.376792698826597"
      ]
     },
     "execution_count": 67,
     "metadata": {},
     "output_type": "execute_result"
    }
   ],
   "source": [
    "57825 / 6903"
   ]
  },
  {
   "cell_type": "code",
   "execution_count": 68,
   "metadata": {
    "id": "HIlJNDN9tmu1"
   },
   "outputs": [],
   "source": [
    "classes_weights = {}\n",
    "for i in range(0, len(classes_total)):\n",
    "    #print(i)\n",
    "    classes_weights[i] = classes_total.max() / classes_total[i]"
   ]
  },
  {
   "cell_type": "code",
   "execution_count": 69,
   "metadata": {
    "colab": {
     "base_uri": "https://localhost:8080/"
    },
    "id": "RedEGNBWuCxg",
    "outputId": "e224a722-5af9-4131-8963-663a92928ffa"
   },
   "outputs": [
    {
     "data": {
      "text/plain": [
       "{0: 8.376792698826597,\n",
       " 1: 7.340992763742541,\n",
       " 2: 8.272532188841202,\n",
       " 3: 8.097605377398123,\n",
       " 4: 8.473769050410317,\n",
       " 5: 9.15967052114684,\n",
       " 6: 8.409685863874346,\n",
       " 7: 7.928835870012341,\n",
       " 8: 8.472527472527473,\n",
       " 9: 8.310577752227651,\n",
       " 10: 4.169370538611291,\n",
       " 11: 6.671089063221043,\n",
       " 12: 2.4702037677816224,\n",
       " 13: 5.7060390763765545,\n",
       " 14: 5.0546328671328675,\n",
       " 15: 49.72055030094583,\n",
       " 16: 10.035577924331829,\n",
       " 17: 8.011221945137157,\n",
       " 18: 51.629464285714285,\n",
       " 19: 6.808548216178029,\n",
       " 20: 10.320364090665715,\n",
       " 21: 4.990937338166753,\n",
       " 22: 4.6875,\n",
       " 23: 3.0418200946870066,\n",
       " 24: 1.0,\n",
       " 25: 2.989762680316426,\n",
       " 26: 9.94924294562973,\n",
       " 27: 4.999567698426422,\n",
       " 28: 1.1942625828703608,\n",
       " 29: 2.5705712380529007,\n",
       " 30: 1.993415609487038,\n",
       " 31: 13.827116212338593,\n",
       " 32: 5.362110534124629,\n",
       " 33: 9.21954719387755,\n",
       " 34: 5.3250759738465785,\n",
       " 35: 9.51695194206715}"
      ]
     },
     "execution_count": 69,
     "metadata": {},
     "output_type": "execute_result"
    }
   ],
   "source": [
    "classes_weights"
   ]
  },
  {
   "cell_type": "code",
   "execution_count": 70,
   "metadata": {
    "id": "hbHjA2GpuYM8"
   },
   "outputs": [],
   "source": [
    "X_train, X_test, y_train, y_test = train_test_split(data,\n",
    "                                                    labels,\n",
    "                                                    test_size=0.2,\n",
    "                                                    random_state=1,\n",
    "                                                    stratify=labels)"
   ]
  },
  {
   "cell_type": "code",
   "execution_count": 71,
   "metadata": {
    "colab": {
     "base_uri": "https://localhost:8080/"
    },
    "id": "KKX-_zV_u0Ql",
    "outputId": "d5eb2159-3674-4549-de41-5c20464529b2"
   },
   "outputs": [
    {
     "data": {
      "text/plain": [
       "((353960, 28, 28, 1), (88490, 28, 28, 1))"
      ]
     },
     "execution_count": 71,
     "metadata": {},
     "output_type": "execute_result"
    }
   ],
   "source": [
    "X_train.shape, X_test.shape"
   ]
  },
  {
   "cell_type": "code",
   "execution_count": 72,
   "metadata": {
    "colab": {
     "base_uri": "https://localhost:8080/"
    },
    "id": "h-KrpXp1vLUY",
    "outputId": "16c599cd-d26a-4119-b800-a2ad8a9fd123"
   },
   "outputs": [
    {
     "data": {
      "text/plain": [
       "((353960, 36), (88490, 36))"
      ]
     },
     "execution_count": 72,
     "metadata": {},
     "output_type": "execute_result"
    }
   ],
   "source": [
    "y_train.shape, y_test.shape"
   ]
  },
  {
   "cell_type": "code",
   "execution_count": 74,
   "metadata": {
    "id": "Gtol5uXgvVPd"
   },
   "outputs": [],
   "source": [
    "from tensorflow.keras.preprocessing.image import ImageDataGenerator"
   ]
  },
  {
   "cell_type": "code",
   "execution_count": 75,
   "metadata": {
    "id": "A4Z7FrQ2vcaP"
   },
   "outputs": [],
   "source": [
    "augmentation = ImageDataGenerator(rotation_range=10,\n",
    "                                  zoom_range=0.05,\n",
    "                                  width_shift_range=0.1,\n",
    "                                  height_shift_range=0.1,\n",
    "                                  horizontal_flip=False)"
   ]
  },
  {
   "cell_type": "markdown",
   "metadata": {
    "id": "jTL6wrhcs2if"
   },
   "source": [
    "# Buiding the neural network\n",
    "\n",
    "- Padding: https://www.pico.net/kb/what-is-the-difference-between-same-and-valid-padding-in-tf-nn-max-pool-of-tensorflow"
   ]
  },
  {
   "cell_type": "code",
   "execution_count": 76,
   "metadata": {
    "id": "fkq5n6XC0ZUF"
   },
   "outputs": [],
   "source": [
    "from tensorflow.keras.models import Sequential\n",
    "from tensorflow.keras.layers import Conv2D, MaxPool2D, Flatten, Dense\n",
    "from tensorflow.keras.callbacks import ModelCheckpoint"
   ]
  },
  {
   "cell_type": "code",
   "execution_count": 77,
   "metadata": {
    "id": "wJ-NyyH_07GB"
   },
   "outputs": [],
   "source": [
    "network = Sequential()\n",
    "\n",
    "network.add(Conv2D(filters = 32, kernel_size=(3,3), activation='relu', input_shape=(28,28,1)))\n",
    "network.add(MaxPool2D(pool_size=(2,2)))\n",
    "\n",
    "network.add(Conv2D(filters = 64, kernel_size=(3,3), activation='relu', padding='same'))\n",
    "network.add(MaxPool2D(pool_size=(2,2)))\n",
    "\n",
    "network.add(Conv2D(filters = 128, kernel_size=(3,3), activation='relu', padding='valid'))\n",
    "network.add(MaxPool2D(pool_size=(2,2)))\n",
    "\n",
    "network.add(Flatten())\n",
    "\n",
    "network.add(Dense(64, activation = 'relu'))\n",
    "network.add(Dense(128, activation = 'relu'))\n",
    "\n",
    "network.add(Dense(36, activation='softmax'))\n",
    "\n",
    "network.compile(loss = 'categorical_crossentropy', optimizer = 'adam', metrics = ['accuracy'])"
   ]
  },
  {
   "cell_type": "code",
   "execution_count": 78,
   "metadata": {
    "colab": {
     "base_uri": "https://localhost:8080/"
    },
    "id": "WaJZ48hD3ifz",
    "outputId": "27ecf048-34c1-4c2a-c0f9-f66b94f0ac60"
   },
   "outputs": [
    {
     "data": {
      "text/plain": [
       "512"
      ]
     },
     "execution_count": 78,
     "metadata": {},
     "output_type": "execute_result"
    }
   ],
   "source": [
    "2 * 2 * 128"
   ]
  },
  {
   "cell_type": "code",
   "execution_count": 79,
   "metadata": {
    "colab": {
     "base_uri": "https://localhost:8080/"
    },
    "id": "gn9KfTsc3Tzu",
    "outputId": "a8179d63-f67c-478a-f542-94848546f3f0"
   },
   "outputs": [
    {
     "name": "stdout",
     "output_type": "stream",
     "text": [
      "Model: \"sequential\"\n",
      "_________________________________________________________________\n",
      " Layer (type)                Output Shape              Param #   \n",
      "=================================================================\n",
      " conv2d (Conv2D)             (None, 26, 26, 32)        320       \n",
      "                                                                 \n",
      " max_pooling2d (MaxPooling2D  (None, 13, 13, 32)       0         \n",
      " )                                                               \n",
      "                                                                 \n",
      " conv2d_1 (Conv2D)           (None, 13, 13, 64)        18496     \n",
      "                                                                 \n",
      " max_pooling2d_1 (MaxPooling  (None, 6, 6, 64)         0         \n",
      " 2D)                                                             \n",
      "                                                                 \n",
      " conv2d_2 (Conv2D)           (None, 4, 4, 128)         73856     \n",
      "                                                                 \n",
      " max_pooling2d_2 (MaxPooling  (None, 2, 2, 128)        0         \n",
      " 2D)                                                             \n",
      "                                                                 \n",
      " flatten (Flatten)           (None, 512)               0         \n",
      "                                                                 \n",
      " dense (Dense)               (None, 64)                32832     \n",
      "                                                                 \n",
      " dense_1 (Dense)             (None, 128)               8320      \n",
      "                                                                 \n",
      " dense_2 (Dense)             (None, 36)                4644      \n",
      "                                                                 \n",
      "=================================================================\n",
      "Total params: 138,468\n",
      "Trainable params: 138,468\n",
      "Non-trainable params: 0\n",
      "_________________________________________________________________\n"
     ]
    }
   ],
   "source": [
    "network.summary()"
   ]
  },
  {
   "cell_type": "code",
   "execution_count": 80,
   "metadata": {
    "id": "AI7TIuGV4cKK"
   },
   "outputs": [],
   "source": [
    "name_labels = '0123456789'\n",
    "name_labels += 'ABCDEFGHIJKLMNOPQRSTUVWXYZ'\n",
    "name_labels = [l for l in name_labels]"
   ]
  },
  {
   "cell_type": "code",
   "execution_count": 81,
   "metadata": {
    "colab": {
     "base_uri": "https://localhost:8080/"
    },
    "id": "9YrBaBgB4rQk",
    "outputId": "44c611bc-8ed8-4922-e080-51d19406c430"
   },
   "outputs": [
    {
     "name": "stdout",
     "output_type": "stream",
     "text": [
      "['0', '1', '2', '3', '4', '5', '6', '7', '8', '9', 'A', 'B', 'C', 'D', 'E', 'F', 'G', 'H', 'I', 'J', 'K', 'L', 'M', 'N', 'O', 'P', 'Q', 'R', 'S', 'T', 'U', 'V', 'W', 'X', 'Y', 'Z']\n"
     ]
    }
   ],
   "source": [
    "print(name_labels)"
   ]
  },
  {
   "cell_type": "markdown",
   "metadata": {
    "id": "eqi1W2TFCxrl"
   },
   "source": [
    "# Training the neural network"
   ]
  },
  {
   "cell_type": "code",
   "execution_count": 82,
   "metadata": {
    "id": "_Aosifqv5kpH"
   },
   "outputs": [],
   "source": [
    "file_model = 'custom_ocr.model'\n",
    "epochs = 20\n",
    "batch_size = 128"
   ]
  },
  {
   "cell_type": "code",
   "execution_count": 83,
   "metadata": {
    "id": "lYoPevvVVnrU"
   },
   "outputs": [],
   "source": [
    "checkpointer = ModelCheckpoint(file_model, monitor = 'val_loss', verbose = 1, save_best_only=True)"
   ]
  },
  {
   "cell_type": "code",
   "execution_count": 84,
   "metadata": {
    "colab": {
     "base_uri": "https://localhost:8080/"
    },
    "id": "bJQh0u9OWSoQ",
    "outputId": "75adb882-a2ee-466c-9c64-4b69438a46d1"
   },
   "outputs": [
    {
     "data": {
      "text/plain": [
       "2765"
      ]
     },
     "execution_count": 84,
     "metadata": {},
     "output_type": "execute_result"
    }
   ],
   "source": [
    "len(X_train) // batch_size"
   ]
  },
  {
   "cell_type": "code",
   "execution_count": 85,
   "metadata": {
    "colab": {
     "base_uri": "https://localhost:8080/"
    },
    "id": "lgiZ-YH-V4uq",
    "outputId": "48b9da7d-927d-4707-f96f-75636220b660"
   },
   "outputs": [
    {
     "name": "stdout",
     "output_type": "stream",
     "text": [
      "Epoch 1/20\n",
      "2765/2765 [==============================] - ETA: 0s - loss: 2.1958 - accuracy: 0.8239\n",
      "Epoch 1: val_loss improved from inf to 0.23664, saving model to custom_ocr.model\n"
     ]
    },
    {
     "name": "stderr",
     "output_type": "stream",
     "text": [
      "WARNING:absl:Found untraced functions such as _jit_compiled_convolution_op, _jit_compiled_convolution_op, _jit_compiled_convolution_op, _update_step_xla while saving (showing 4 of 4). These functions will not be directly callable after loading.\n"
     ]
    },
    {
     "name": "stdout",
     "output_type": "stream",
     "text": [
      "INFO:tensorflow:Assets written to: custom_ocr.model\\assets\n"
     ]
    },
    {
     "name": "stderr",
     "output_type": "stream",
     "text": [
      "INFO:tensorflow:Assets written to: custom_ocr.model\\assets\n"
     ]
    },
    {
     "name": "stdout",
     "output_type": "stream",
     "text": [
      "2765/2765 [==============================] - 161s 58ms/step - loss: 2.1958 - accuracy: 0.8239 - val_loss: 0.2366 - val_accuracy: 0.9145\n",
      "Epoch 2/20\n",
      "2765/2765 [==============================] - ETA: 0s - loss: 0.9875 - accuracy: 0.9007\n",
      "Epoch 2: val_loss improved from 0.23664 to 0.17923, saving model to custom_ocr.model\n"
     ]
    },
    {
     "name": "stderr",
     "output_type": "stream",
     "text": [
      "WARNING:absl:Found untraced functions such as _jit_compiled_convolution_op, _jit_compiled_convolution_op, _jit_compiled_convolution_op, _update_step_xla while saving (showing 4 of 4). These functions will not be directly callable after loading.\n"
     ]
    },
    {
     "name": "stdout",
     "output_type": "stream",
     "text": [
      "INFO:tensorflow:Assets written to: custom_ocr.model\\assets\n"
     ]
    },
    {
     "name": "stderr",
     "output_type": "stream",
     "text": [
      "INFO:tensorflow:Assets written to: custom_ocr.model\\assets\n"
     ]
    },
    {
     "name": "stdout",
     "output_type": "stream",
     "text": [
      "2765/2765 [==============================] - 199s 72ms/step - loss: 0.9875 - accuracy: 0.9007 - val_loss: 0.1792 - val_accuracy: 0.9378\n",
      "Epoch 3/20\n",
      "2765/2765 [==============================] - ETA: 0s - loss: 0.8072 - accuracy: 0.9135\n",
      "Epoch 3: val_loss did not improve from 0.17923\n",
      "2765/2765 [==============================] - 177s 64ms/step - loss: 0.8072 - accuracy: 0.9135 - val_loss: 0.2387 - val_accuracy: 0.8983\n",
      "Epoch 4/20\n",
      "2765/2765 [==============================] - ETA: 0s - loss: 0.7197 - accuracy: 0.9207\n",
      "Epoch 4: val_loss did not improve from 0.17923\n",
      "2765/2765 [==============================] - 187s 68ms/step - loss: 0.7197 - accuracy: 0.9207 - val_loss: 0.2133 - val_accuracy: 0.9190\n",
      "Epoch 5/20\n",
      "2765/2765 [==============================] - ETA: 0s - loss: 0.6571 - accuracy: 0.9260\n",
      "Epoch 5: val_loss did not improve from 0.17923\n",
      "2765/2765 [==============================] - 190s 69ms/step - loss: 0.6571 - accuracy: 0.9260 - val_loss: 0.2583 - val_accuracy: 0.8903\n",
      "Epoch 6/20\n",
      "2765/2765 [==============================] - ETA: 0s - loss: 0.6050 - accuracy: 0.9310\n",
      "Epoch 6: val_loss did not improve from 0.17923\n",
      "2765/2765 [==============================] - 180s 65ms/step - loss: 0.6050 - accuracy: 0.9310 - val_loss: 0.2016 - val_accuracy: 0.9181\n",
      "Epoch 7/20\n",
      "2765/2765 [==============================] - ETA: 0s - loss: 0.5852 - accuracy: 0.9335\n",
      "Epoch 7: val_loss did not improve from 0.17923\n",
      "2765/2765 [==============================] - 176s 64ms/step - loss: 0.5852 - accuracy: 0.9335 - val_loss: 0.3000 - val_accuracy: 0.8785\n",
      "Epoch 8/20\n",
      "2765/2765 [==============================] - ETA: 0s - loss: 0.5547 - accuracy: 0.9358\n",
      "Epoch 8: val_loss did not improve from 0.17923\n",
      "2765/2765 [==============================] - 177s 64ms/step - loss: 0.5547 - accuracy: 0.9358 - val_loss: 0.2617 - val_accuracy: 0.8884\n",
      "Epoch 9/20\n",
      "2764/2765 [============================>.] - ETA: 0s - loss: 0.5280 - accuracy: 0.9373\n",
      "Epoch 9: val_loss did not improve from 0.17923\n",
      "2765/2765 [==============================] - 213s 77ms/step - loss: 0.5279 - accuracy: 0.9374 - val_loss: 0.3094 - val_accuracy: 0.8742\n",
      "Epoch 10/20\n",
      "2765/2765 [==============================] - ETA: 0s - loss: 0.5032 - accuracy: 0.9391\n",
      "Epoch 10: val_loss did not improve from 0.17923\n",
      "2765/2765 [==============================] - 201s 73ms/step - loss: 0.5032 - accuracy: 0.9391 - val_loss: 0.2013 - val_accuracy: 0.9201\n",
      "Epoch 11/20\n",
      "2764/2765 [============================>.] - ETA: 0s - loss: 0.4899 - accuracy: 0.9399\n",
      "Epoch 11: val_loss did not improve from 0.17923\n",
      "2765/2765 [==============================] - 199s 72ms/step - loss: 0.4898 - accuracy: 0.9399 - val_loss: 0.2471 - val_accuracy: 0.8945\n",
      "Epoch 12/20\n",
      "2764/2765 [============================>.] - ETA: 0s - loss: 0.4761 - accuracy: 0.9412\n",
      "Epoch 12: val_loss did not improve from 0.17923\n",
      "2765/2765 [==============================] - 197s 71ms/step - loss: 0.4760 - accuracy: 0.9412 - val_loss: 0.2203 - val_accuracy: 0.9006\n",
      "Epoch 13/20\n",
      "2765/2765 [==============================] - ETA: 0s - loss: 0.4655 - accuracy: 0.9425\n",
      "Epoch 13: val_loss did not improve from 0.17923\n",
      "2765/2765 [==============================] - 194s 70ms/step - loss: 0.4655 - accuracy: 0.9425 - val_loss: 0.2380 - val_accuracy: 0.8929\n",
      "Epoch 14/20\n",
      "2765/2765 [==============================] - ETA: 0s - loss: 0.4539 - accuracy: 0.9429\n",
      "Epoch 14: val_loss did not improve from 0.17923\n",
      "2765/2765 [==============================] - 192s 69ms/step - loss: 0.4539 - accuracy: 0.9429 - val_loss: 0.2429 - val_accuracy: 0.8948\n",
      "Epoch 15/20\n",
      "2764/2765 [============================>.] - ETA: 0s - loss: 0.4486 - accuracy: 0.9441\n",
      "Epoch 15: val_loss did not improve from 0.17923\n",
      "2765/2765 [==============================] - 190s 69ms/step - loss: 0.4487 - accuracy: 0.9441 - val_loss: 0.1950 - val_accuracy: 0.9166\n",
      "Epoch 16/20\n",
      "2764/2765 [============================>.] - ETA: 0s - loss: 0.4371 - accuracy: 0.9458\n",
      "Epoch 16: val_loss did not improve from 0.17923\n",
      "2765/2765 [==============================] - 188s 68ms/step - loss: 0.4370 - accuracy: 0.9458 - val_loss: 0.2672 - val_accuracy: 0.8837\n",
      "Epoch 17/20\n",
      "2765/2765 [==============================] - ETA: 0s - loss: 0.4348 - accuracy: 0.9461\n",
      "Epoch 17: val_loss improved from 0.17923 to 0.16805, saving model to custom_ocr.model\n"
     ]
    },
    {
     "name": "stderr",
     "output_type": "stream",
     "text": [
      "WARNING:absl:Found untraced functions such as _jit_compiled_convolution_op, _jit_compiled_convolution_op, _jit_compiled_convolution_op, _update_step_xla while saving (showing 4 of 4). These functions will not be directly callable after loading.\n"
     ]
    },
    {
     "name": "stdout",
     "output_type": "stream",
     "text": [
      "INFO:tensorflow:Assets written to: custom_ocr.model\\assets\n"
     ]
    },
    {
     "name": "stderr",
     "output_type": "stream",
     "text": [
      "INFO:tensorflow:Assets written to: custom_ocr.model\\assets\n"
     ]
    },
    {
     "name": "stdout",
     "output_type": "stream",
     "text": [
      "2765/2765 [==============================] - 186s 67ms/step - loss: 0.4348 - accuracy: 0.9461 - val_loss: 0.1681 - val_accuracy: 0.9406\n",
      "Epoch 18/20\n",
      "2765/2765 [==============================] - ETA: 0s - loss: 0.4225 - accuracy: 0.9473\n",
      "Epoch 18: val_loss did not improve from 0.16805\n",
      "2765/2765 [==============================] - 187s 67ms/step - loss: 0.4225 - accuracy: 0.9473 - val_loss: 0.2074 - val_accuracy: 0.9206\n",
      "Epoch 19/20\n",
      "2765/2765 [==============================] - ETA: 0s - loss: 0.4202 - accuracy: 0.9483\n",
      "Epoch 19: val_loss did not improve from 0.16805\n",
      "2765/2765 [==============================] - 186s 67ms/step - loss: 0.4202 - accuracy: 0.9483 - val_loss: 0.1851 - val_accuracy: 0.9227\n",
      "Epoch 20/20\n",
      "2765/2765 [==============================] - ETA: 0s - loss: 0.4100 - accuracy: 0.9476\n",
      "Epoch 20: val_loss did not improve from 0.16805\n",
      "2765/2765 [==============================] - 183s 66ms/step - loss: 0.4100 - accuracy: 0.9476 - val_loss: 0.1688 - val_accuracy: 0.9377\n"
     ]
    }
   ],
   "source": [
    "history = network.fit(augmentation.flow(X_train, y_train, batch_size=batch_size),\n",
    "                      validation_data=(X_test, y_test),\n",
    "                      steps_per_epoch=len(X_train) // batch_size,\n",
    "                      epochs=epochs,\n",
    "                      class_weight=classes_weights,\n",
    "                      verbose=1,\n",
    "                      callbacks=[checkpointer])"
   ]
  },
  {
   "cell_type": "markdown",
   "metadata": {
    "id": "YFy8-KqfcbTf"
   },
   "source": [
    "# Evaluating the neural network"
   ]
  },
  {
   "cell_type": "code",
   "execution_count": 86,
   "metadata": {
    "colab": {
     "base_uri": "https://localhost:8080/"
    },
    "id": "SIpgBH7Plj_X",
    "outputId": "9a1f428a-08e1-4a45-dbce-8b294672ff14"
   },
   "outputs": [
    {
     "data": {
      "text/plain": [
       "(88490, 28, 28, 1)"
      ]
     },
     "execution_count": 86,
     "metadata": {},
     "output_type": "execute_result"
    }
   ],
   "source": [
    "X_test.shape"
   ]
  },
  {
   "cell_type": "code",
   "execution_count": 87,
   "metadata": {
    "id": "i4Izi3QNls0V"
   },
   "outputs": [
    {
     "name": "stdout",
     "output_type": "stream",
     "text": [
      "692/692 [==============================] - 9s 13ms/step\n"
     ]
    }
   ],
   "source": [
    "predictions = network.predict(X_test, batch_size=batch_size)"
   ]
  },
  {
   "cell_type": "code",
   "execution_count": 88,
   "metadata": {
    "colab": {
     "base_uri": "https://localhost:8080/"
    },
    "id": "RwHQ91nJl54s",
    "outputId": "47889a61-95fa-4218-aadb-7ac9ad922e2b"
   },
   "outputs": [
    {
     "data": {
      "text/plain": [
       "array([[8.3417076e-01, 1.7217590e-06, 7.3189057e-07, ..., 1.8355152e-12,\n",
       "        5.8161953e-07, 1.9873438e-08],\n",
       "       [4.4128146e-18, 2.0635342e-12, 2.7063277e-14, ..., 3.5510708e-13,\n",
       "        1.3237400e-10, 1.3601278e-12],\n",
       "       [7.6128049e-20, 4.4951995e-21, 8.7663063e-18, ..., 3.0969254e-13,\n",
       "        9.8587988e-14, 7.4541200e-20],\n",
       "       ...,\n",
       "       [3.5673299e-01, 1.7537027e-09, 5.4191766e-08, ..., 9.4483865e-20,\n",
       "        6.2253429e-09, 1.8550210e-11],\n",
       "       [1.4543257e-22, 1.6491551e-11, 4.9521893e-09, ..., 9.9929440e-01,\n",
       "        1.0301603e-04, 4.1495344e-08],\n",
       "       [1.5451182e-07, 6.2237372e-15, 5.7831707e-13, ..., 8.6213652e-18,\n",
       "        1.6171030e-11, 1.8840427e-09]], dtype=float32)"
      ]
     },
     "execution_count": 88,
     "metadata": {},
     "output_type": "execute_result"
    }
   ],
   "source": [
    "predictions"
   ]
  },
  {
   "cell_type": "code",
   "execution_count": 89,
   "metadata": {
    "colab": {
     "base_uri": "https://localhost:8080/"
    },
    "id": "BgXp7ouQl8_r",
    "outputId": "7fee7a9e-1bd9-4eb5-fdc4-a7e860e5d519"
   },
   "outputs": [
    {
     "data": {
      "text/plain": [
       "array([8.3417076e-01, 1.7217590e-06, 7.3189057e-07, 4.0036960e-07,\n",
       "       3.4793791e-06, 2.9014545e-06, 1.5739068e-04, 4.5842995e-08,\n",
       "       5.5637847e-05, 4.8200622e-05, 7.4865187e-07, 2.2302254e-05,\n",
       "       3.4773737e-05, 5.0808873e-04, 1.8140491e-07, 6.2289908e-13,\n",
       "       2.4701946e-04, 5.0445909e-10, 5.4402008e-12, 2.1746648e-06,\n",
       "       1.3030896e-10, 8.6393115e-09, 3.6071839e-08, 8.4536614e-06,\n",
       "       1.6275890e-01, 4.7204503e-05, 1.8250215e-03, 5.1608087e-08,\n",
       "       5.1905868e-06, 1.1083352e-07, 9.7201024e-05, 2.9788800e-09,\n",
       "       6.8944382e-07, 1.8355152e-12, 5.8161953e-07, 1.9873438e-08],\n",
       "      dtype=float32)"
      ]
     },
     "execution_count": 89,
     "metadata": {},
     "output_type": "execute_result"
    }
   ],
   "source": [
    "predictions[0]"
   ]
  },
  {
   "cell_type": "code",
   "execution_count": 90,
   "metadata": {
    "colab": {
     "base_uri": "https://localhost:8080/"
    },
    "id": "-UKPlEcTmGJj",
    "outputId": "52912bd6-5bbb-4e2b-fb91-edc49705bfe2"
   },
   "outputs": [
    {
     "data": {
      "text/plain": [
       "36"
      ]
     },
     "execution_count": 90,
     "metadata": {},
     "output_type": "execute_result"
    }
   ],
   "source": [
    "len(predictions[0])"
   ]
  },
  {
   "cell_type": "code",
   "execution_count": 91,
   "metadata": {
    "colab": {
     "base_uri": "https://localhost:8080/"
    },
    "id": "z4O0DLc_mMib",
    "outputId": "b862a6aa-ec05-44c6-9227-8abeb00a9ddc"
   },
   "outputs": [
    {
     "data": {
      "text/plain": [
       "0"
      ]
     },
     "execution_count": 91,
     "metadata": {},
     "output_type": "execute_result"
    }
   ],
   "source": [
    "np.argmax(predictions[0])"
   ]
  },
  {
   "cell_type": "code",
   "execution_count": 92,
   "metadata": {
    "colab": {
     "base_uri": "https://localhost:8080/",
     "height": 37
    },
    "id": "6IbbqWtfmSx0",
    "outputId": "24631d6a-d6a7-43c3-ff36-25365f9ea18b"
   },
   "outputs": [
    {
     "data": {
      "text/plain": [
       "'O'"
      ]
     },
     "execution_count": 92,
     "metadata": {},
     "output_type": "execute_result"
    }
   ],
   "source": [
    "name_labels[24]"
   ]
  },
  {
   "cell_type": "code",
   "execution_count": 93,
   "metadata": {
    "colab": {
     "base_uri": "https://localhost:8080/"
    },
    "id": "eH830NCDmfZ5",
    "outputId": "970068d7-b5ea-460a-9ce6-2317bb8104ca"
   },
   "outputs": [
    {
     "data": {
      "text/plain": [
       "array([0, 0, 0, 0, 0, 0, 0, 0, 0, 0, 0, 0, 0, 0, 0, 0, 0, 0, 0, 0, 0, 0,\n",
       "       0, 0, 1, 0, 0, 0, 0, 0, 0, 0, 0, 0, 0, 0])"
      ]
     },
     "execution_count": 93,
     "metadata": {},
     "output_type": "execute_result"
    }
   ],
   "source": [
    "y_test[0]"
   ]
  },
  {
   "cell_type": "code",
   "execution_count": 94,
   "metadata": {
    "colab": {
     "base_uri": "https://localhost:8080/"
    },
    "id": "lrQIirfgmlQU",
    "outputId": "be1cb8c8-8a12-474d-a32c-980ae9472425"
   },
   "outputs": [
    {
     "data": {
      "text/plain": [
       "24"
      ]
     },
     "execution_count": 94,
     "metadata": {},
     "output_type": "execute_result"
    }
   ],
   "source": [
    "np.argmax(y_test[0])"
   ]
  },
  {
   "cell_type": "code",
   "execution_count": 95,
   "metadata": {
    "colab": {
     "base_uri": "https://localhost:8080/",
     "height": 37
    },
    "id": "XzbiDREumxAf",
    "outputId": "1b6bc4d3-1846-4259-8b2d-2b8474128547"
   },
   "outputs": [
    {
     "data": {
      "text/plain": [
       "'O'"
      ]
     },
     "execution_count": 95,
     "metadata": {},
     "output_type": "execute_result"
    }
   ],
   "source": [
    "name_labels[np.argmax(y_test[0])]"
   ]
  },
  {
   "cell_type": "code",
   "execution_count": 96,
   "metadata": {
    "colab": {
     "base_uri": "https://localhost:8080/"
    },
    "id": "7g7A6-jDm-jo",
    "outputId": "c4159123-9021-4fc4-fb26-175692dc9b0f"
   },
   "outputs": [
    {
     "name": "stdout",
     "output_type": "stream",
     "text": [
      "2766/2766 [==============================] - 17s 6ms/step - loss: 0.1688 - accuracy: 0.9377\n"
     ]
    },
    {
     "data": {
      "text/plain": [
       "[0.16879817843437195, 0.9376765489578247]"
      ]
     },
     "execution_count": 96,
     "metadata": {},
     "output_type": "execute_result"
    }
   ],
   "source": [
    "network.evaluate(X_test, y_test)"
   ]
  },
  {
   "cell_type": "code",
   "execution_count": 97,
   "metadata": {
    "colab": {
     "base_uri": "https://localhost:8080/"
    },
    "id": "QykEgVe4nRLC",
    "outputId": "cd715c91-5ef2-41ac-ff65-ec34eb40267f"
   },
   "outputs": [
    {
     "name": "stdout",
     "output_type": "stream",
     "text": [
      "              precision    recall  f1-score   support\n",
      "\n",
      "           0       0.30      0.68      0.42      1381\n",
      "           1       0.97      0.99      0.98      1575\n",
      "           2       0.89      0.98      0.93      1398\n",
      "           3       0.99      0.98      0.99      1428\n",
      "           4       0.93      0.97      0.95      1365\n",
      "           5       0.49      0.96      0.65      1263\n",
      "           6       0.91      0.98      0.95      1375\n",
      "           7       0.97      0.98      0.98      1459\n",
      "           8       0.93      0.99      0.96      1365\n",
      "           9       0.94      0.99      0.96      1392\n",
      "           A       0.99      0.99      0.99      2774\n",
      "           B       0.98      0.99      0.99      1734\n",
      "           C       0.99      0.98      0.99      4682\n",
      "           D       0.86      0.98      0.92      2027\n",
      "           E       0.99      0.98      0.99      2288\n",
      "           F       0.97      1.00      0.98       233\n",
      "           G       0.96      0.93      0.95      1152\n",
      "           H       0.98      0.98      0.98      1444\n",
      "           I       0.99      0.98      0.98       224\n",
      "           J       0.97      0.98      0.98      1698\n",
      "           K       0.97      0.99      0.98      1121\n",
      "           L       0.98      0.98      0.98      2317\n",
      "           M       1.00      0.99      1.00      2467\n",
      "           N       0.99      0.98      0.99      3802\n",
      "           O       0.96      0.79      0.86     11565\n",
      "           P       1.00      0.99      0.99      3868\n",
      "           Q       0.96      0.99      0.97      1162\n",
      "           R       0.99      0.99      0.99      2313\n",
      "           S       0.99      0.86      0.92      9684\n",
      "           T       1.00      0.99      0.99      4499\n",
      "           U       0.99      0.99      0.99      5801\n",
      "           V       0.98      1.00      0.99       836\n",
      "           W       0.99      0.99      0.99      2157\n",
      "           X       0.99      0.99      0.99      1254\n",
      "           Y       0.99      0.94      0.96      2172\n",
      "           Z       0.98      0.86      0.92      1215\n",
      "\n",
      "    accuracy                           0.94     88490\n",
      "   macro avg       0.94      0.96      0.94     88490\n",
      "weighted avg       0.96      0.94      0.94     88490\n",
      "\n"
     ]
    }
   ],
   "source": [
    "print(classification_report(y_test.argmax(axis=1), predictions.argmax(axis=1), target_names = name_labels))"
   ]
  },
  {
   "cell_type": "code",
   "execution_count": 98,
   "metadata": {
    "colab": {
     "base_uri": "https://localhost:8080/"
    },
    "id": "TUFIzHfloVeT",
    "outputId": "590b4dcc-786b-41d7-ffb0-adc2af420218"
   },
   "outputs": [
    {
     "data": {
      "text/plain": [
       "dict_keys(['loss', 'accuracy', 'val_loss', 'val_accuracy'])"
      ]
     },
     "execution_count": 98,
     "metadata": {},
     "output_type": "execute_result"
    }
   ],
   "source": [
    "history.history.keys()"
   ]
  },
  {
   "cell_type": "code",
   "execution_count": 99,
   "metadata": {
    "colab": {
     "base_uri": "https://localhost:8080/",
     "height": 265
    },
    "id": "nTIpIF54ooFY",
    "outputId": "82a9f6fc-5be4-4c07-8866-4d1a413fe14a"
   },
   "outputs": [
    {
     "data": {
      "image/png": "[encoded data removed]",
      "text/plain": [
       "<Figure size 640x480 with 1 Axes>"
      ]
     },
     "metadata": {},
     "output_type": "display_data"
    }
   ],
   "source": [
    "plt.plot(history.history['val_loss']);"
   ]
  },
  {
   "cell_type": "code",
   "execution_count": 100,
   "metadata": {
    "colab": {
     "base_uri": "https://localhost:8080/",
     "height": 265
    },
    "id": "GPre0ma8o10i",
    "outputId": "4f06484d-4e5e-499a-e851-026eaea1b63f"
   },
   "outputs": [
    {
     "data": {
      "image/png": "[encoded data removed]",
      "text/plain": [
       "<Figure size 640x480 with 1 Axes>"
      ]
     },
     "metadata": {},
     "output_type": "display_data"
    }
   ],
   "source": [
    "plt.plot(history.history['val_accuracy']);"
   ]
  },
  {
   "cell_type": "markdown",
   "metadata": {
    "id": "1Eyrve-hXEQh"
   },
   "source": [
    "# Saving the neural network on Google Drive"
   ]
  },
  {
   "cell_type": "code",
   "execution_count": 101,
   "metadata": {
    "id": "qN8ClmGuq4AB"
   },
   "outputs": [],
   "source": [
    "network.save('network', save_format= 'h5')"
   ]
  },
  {
   "cell_type": "code",
   "execution_count": 103,
   "metadata": {
    "colab": {
     "base_uri": "https://localhost:8080/"
    },
    "id": "46jZLonArNny",
    "outputId": "69af30ab-9e6c-4357-dff0-e912e98fb30d"
   },
   "outputs": [],
   "source": [
    "#from google.colab import drive\n",
    "#drive.mount('/content/drive')"
   ]
  },
  {
   "cell_type": "code",
   "execution_count": 104,
   "metadata": {
    "id": "sNT99iiirgEY"
   },
   "outputs": [],
   "source": [
    "#!cp network /content/drive/MyDrive/Cursos\\ -\\ recursos/OCR\\ with\\ Python/Models/network"
   ]
  },
  {
   "cell_type": "markdown",
   "metadata": {
    "id": "7W1W2e_AV2Vb"
   },
   "source": [
    "# Testing the neural network with images"
   ]
  },
  {
   "cell_type": "code",
   "execution_count": 106,
   "metadata": {
    "id": "yJh47wnjsfmD"
   },
   "outputs": [],
   "source": [
    "from tensorflow.keras.models import load_model"
   ]
  },
  {
   "cell_type": "code",
   "execution_count": 107,
   "metadata": {
    "id": "Q0dWiLALsldE"
   },
   "outputs": [],
   "source": [
    "#loaded_network = load_model('/content/drive/MyDrive/Cursos - recursos/OCR with Python/Models/network')\n",
    "loaded_network = load_model('./network')"
   ]
  },
  {
   "cell_type": "code",
   "execution_count": 108,
   "metadata": {
    "colab": {
     "base_uri": "https://localhost:8080/"
    },
    "id": "gZS_1wDFsvVm",
    "outputId": "3cdde4c8-bc31-425c-a665-58a743e61fbc"
   },
   "outputs": [
    {
     "data": {
      "text/plain": [
       "<keras.engine.sequential.Sequential at 0x1e434a4db50>"
      ]
     },
     "execution_count": 108,
     "metadata": {},
     "output_type": "execute_result"
    }
   ],
   "source": [
    "loaded_network"
   ]
  },
  {
   "cell_type": "code",
   "execution_count": 109,
   "metadata": {
    "colab": {
     "base_uri": "https://localhost:8080/"
    },
    "id": "ljerEfLrs0fW",
    "outputId": "d7731eb4-1119-4e88-d0ad-c56ba13d560a"
   },
   "outputs": [
    {
     "name": "stdout",
     "output_type": "stream",
     "text": [
      "Model: \"sequential\"\n",
      "_________________________________________________________________\n",
      " Layer (type)                Output Shape              Param #   \n",
      "=================================================================\n",
      " conv2d (Conv2D)             (None, 26, 26, 32)        320       \n",
      "                                                                 \n",
      " max_pooling2d (MaxPooling2D  (None, 13, 13, 32)       0         \n",
      " )                                                               \n",
      "                                                                 \n",
      " conv2d_1 (Conv2D)           (None, 13, 13, 64)        18496     \n",
      "                                                                 \n",
      " max_pooling2d_1 (MaxPooling  (None, 6, 6, 64)         0         \n",
      " 2D)                                                             \n",
      "                                                                 \n",
      " conv2d_2 (Conv2D)           (None, 4, 4, 128)         73856     \n",
      "                                                                 \n",
      " max_pooling2d_2 (MaxPooling  (None, 2, 2, 128)        0         \n",
      " 2D)                                                             \n",
      "                                                                 \n",
      " flatten (Flatten)           (None, 512)               0         \n",
      "                                                                 \n",
      " dense (Dense)               (None, 64)                32832     \n",
      "                                                                 \n",
      " dense_1 (Dense)             (None, 128)               8320      \n",
      "                                                                 \n",
      " dense_2 (Dense)             (None, 36)                4644      \n",
      "                                                                 \n",
      "=================================================================\n",
      "Total params: 138,468\n",
      "Trainable params: 138,468\n",
      "Non-trainable params: 0\n",
      "_________________________________________________________________\n"
     ]
    }
   ],
   "source": [
    "loaded_network.summary()"
   ]
  },
  {
   "cell_type": "code",
   "execution_count": 122,
   "metadata": {
    "colab": {
     "base_uri": "https://localhost:8080/",
     "height": 48
    },
    "id": "Q1Itgzabs67w",
    "outputId": "70d9d759-ecb6-45d7-decf-1aa8cd7e82bf"
   },
   "outputs": [
    {
     "data": {
      "image/png": "[encoded data removed]",
      "text/plain": [
       "<Figure size 640x480 with 1 Axes>"
      ]
     },
     "metadata": {},
     "output_type": "display_data"
    }
   ],
   "source": [
    "import cv2\n",
    "#from google.colab.patches import cv2_imshow\n",
    "img = cv2.imread(DATA_PATH+'Images/letter-m.jpg')\n",
    "cv2_imshow(img)"
   ]
  },
  {
   "cell_type": "code",
   "execution_count": 123,
   "metadata": {
    "colab": {
     "base_uri": "https://localhost:8080/"
    },
    "id": "heyWJMHxtjsU",
    "outputId": "d22850b4-d5ad-4ffc-8a6c-2bd4993a47e8"
   },
   "outputs": [
    {
     "data": {
      "text/plain": [
       "(30, 30, 3)"
      ]
     },
     "execution_count": 123,
     "metadata": {},
     "output_type": "execute_result"
    }
   ],
   "source": [
    "img.shape"
   ]
  },
  {
   "cell_type": "code",
   "execution_count": 124,
   "metadata": {
    "colab": {
     "base_uri": "https://localhost:8080/"
    },
    "id": "f7z9Pdantdj_",
    "outputId": "9724a518-9710-45f5-c695-922cbc926313"
   },
   "outputs": [
    {
     "data": {
      "text/plain": [
       "(30, 30)"
      ]
     },
     "execution_count": 124,
     "metadata": {},
     "output_type": "execute_result"
    }
   ],
   "source": [
    "gray = cv2.cvtColor(img, cv2.COLOR_BGR2GRAY)\n",
    "gray.shape"
   ]
  },
  {
   "cell_type": "code",
   "execution_count": 125,
   "metadata": {
    "colab": {
     "base_uri": "https://localhost:8080/",
     "height": 48
    },
    "id": "9eoQZSPatozE",
    "outputId": "00757f32-5e25-4cc5-e03d-22eeba22dd33"
   },
   "outputs": [
    {
     "data": {
      "image/png": "[encoded data removed]",
      "text/plain": [
       "<Figure size 640x480 with 1 Axes>"
      ]
     },
     "metadata": {},
     "output_type": "display_data"
    }
   ],
   "source": [
    "cv2_imshow(gray)"
   ]
  },
  {
   "cell_type": "code",
   "execution_count": 126,
   "metadata": {
    "colab": {
     "base_uri": "https://localhost:8080/",
     "height": 48
    },
    "id": "RmCfTg4NtvEu",
    "outputId": "4186c56d-31ae-4528-f3fc-ab6b0b6da33e"
   },
   "outputs": [
    {
     "data": {
      "image/png": "[encoded data removed]",
      "text/plain": [
       "<Figure size 640x480 with 1 Axes>"
      ]
     },
     "metadata": {},
     "output_type": "display_data"
    }
   ],
   "source": [
    "value, thresh = cv2.threshold(gray, 0, 255, cv2.THRESH_BINARY_INV | cv2.THRESH_OTSU)\n",
    "cv2_imshow(thresh)"
   ]
  },
  {
   "cell_type": "code",
   "execution_count": 127,
   "metadata": {
    "colab": {
     "base_uri": "https://localhost:8080/"
    },
    "id": "o49KXgHSt8x4",
    "outputId": "02e3e079-9b39-45dc-b9b3-105f6efa2994"
   },
   "outputs": [
    {
     "data": {
      "text/plain": [
       "137.0"
      ]
     },
     "execution_count": 127,
     "metadata": {},
     "output_type": "execute_result"
    }
   ],
   "source": [
    "value"
   ]
  },
  {
   "cell_type": "code",
   "execution_count": 128,
   "metadata": {
    "colab": {
     "base_uri": "https://localhost:8080/"
    },
    "id": "6cGvKXGeuWXV",
    "outputId": "9faafb51-044f-4f5c-eeec-1f1392287902"
   },
   "outputs": [
    {
     "data": {
      "text/plain": [
       "(30, 30)"
      ]
     },
     "execution_count": 128,
     "metadata": {},
     "output_type": "execute_result"
    }
   ],
   "source": [
    "thresh.shape"
   ]
  },
  {
   "cell_type": "code",
   "execution_count": 129,
   "metadata": {
    "colab": {
     "base_uri": "https://localhost:8080/",
     "height": 45
    },
    "id": "ZMaVdk65ubYm",
    "outputId": "56eaf40e-cfb0-4b14-f106-6ba99d09736c"
   },
   "outputs": [
    {
     "data": {
      "image/png": "[encoded data removed]",
      "text/plain": [
       "<Figure size 640x480 with 1 Axes>"
      ]
     },
     "metadata": {},
     "output_type": "display_data"
    }
   ],
   "source": [
    "img = cv2.resize(thresh, (28,28))\n",
    "cv2_imshow(img)"
   ]
  },
  {
   "cell_type": "code",
   "execution_count": 130,
   "metadata": {
    "colab": {
     "base_uri": "https://localhost:8080/"
    },
    "id": "sRvs4wnFurcq",
    "outputId": "ad52a296-5ebf-4791-8aa1-aa062319acdb"
   },
   "outputs": [
    {
     "data": {
      "text/plain": [
       "(28, 28)"
      ]
     },
     "execution_count": 130,
     "metadata": {},
     "output_type": "execute_result"
    }
   ],
   "source": [
    "img.shape"
   ]
  },
  {
   "cell_type": "code",
   "execution_count": 131,
   "metadata": {
    "colab": {
     "base_uri": "https://localhost:8080/"
    },
    "id": "Gfd_6iHPuv09",
    "outputId": "d925b651-68db-48e7-bddc-f8a5f9299362"
   },
   "outputs": [
    {
     "data": {
      "text/plain": [
       "(28, 28, 1)"
      ]
     },
     "execution_count": 131,
     "metadata": {},
     "output_type": "execute_result"
    }
   ],
   "source": [
    "img = img.astype('float32') / 255.0\n",
    "img = np.expand_dims(img, axis = -1)\n",
    "img.shape"
   ]
  },
  {
   "cell_type": "code",
   "execution_count": 132,
   "metadata": {
    "colab": {
     "base_uri": "https://localhost:8080/"
    },
    "id": "G54-8G8ovB3k",
    "outputId": "dcac5608-8406-4932-8624-75f2f7ac1043"
   },
   "outputs": [
    {
     "data": {
      "text/plain": [
       "(1, 28, 28, 1)"
      ]
     },
     "execution_count": 132,
     "metadata": {},
     "output_type": "execute_result"
    }
   ],
   "source": [
    "img = np.reshape(img, (1,28,28,1))\n",
    "img.shape"
   ]
  },
  {
   "cell_type": "code",
   "execution_count": 133,
   "metadata": {
    "colab": {
     "base_uri": "https://localhost:8080/"
    },
    "id": "wWoVq310vL5z",
    "outputId": "42ccb330-8b2e-42f3-c721-c6abd5ae80d7"
   },
   "outputs": [
    {
     "name": "stdout",
     "output_type": "stream",
     "text": [
      "1/1 [==============================] - 0s 68ms/step\n"
     ]
    },
    {
     "data": {
      "text/plain": [
       "array([[2.1213654e-16, 7.5757759e-16, 3.0856150e-16, 2.7763612e-16,\n",
       "        5.5142058e-11, 2.1651932e-18, 1.3522640e-17, 6.1206839e-13,\n",
       "        1.5962368e-21, 2.4276909e-15, 1.5152907e-09, 6.6142980e-14,\n",
       "        1.4201895e-12, 1.3773786e-10, 1.5999254e-13, 7.0728393e-21,\n",
       "        7.2553611e-13, 1.0349229e-08, 4.7604236e-32, 4.1081855e-19,\n",
       "        4.3681508e-10, 1.7184070e-15, 9.9988997e-01, 1.0982312e-04,\n",
       "        4.2624668e-09, 9.1015455e-13, 8.2126781e-15, 1.4654689e-09,\n",
       "        1.7117726e-08, 9.9749151e-09, 1.2258431e-08, 3.6608569e-27,\n",
       "        8.6971447e-08, 6.3009686e-10, 2.3739244e-15, 3.6216118e-15]],\n",
       "      dtype=float32)"
      ]
     },
     "execution_count": 133,
     "metadata": {},
     "output_type": "execute_result"
    }
   ],
   "source": [
    "prediction = loaded_network.predict(img)\n",
    "prediction"
   ]
  },
  {
   "cell_type": "code",
   "execution_count": 134,
   "metadata": {
    "colab": {
     "base_uri": "https://localhost:8080/"
    },
    "id": "K9-TyHwEvWLS",
    "outputId": "208f545d-762c-487f-fa0f-b394736d650b"
   },
   "outputs": [
    {
     "data": {
      "text/plain": [
       "22"
      ]
     },
     "execution_count": 134,
     "metadata": {},
     "output_type": "execute_result"
    }
   ],
   "source": [
    "np.argmax(prediction)"
   ]
  },
  {
   "cell_type": "code",
   "execution_count": 135,
   "metadata": {
    "colab": {
     "base_uri": "https://localhost:8080/",
     "height": 37
    },
    "id": "o-JIhKJtvaX6",
    "outputId": "6d01646f-1601-4e47-b533-55ce8811dedd"
   },
   "outputs": [
    {
     "data": {
      "text/plain": [
       "'M'"
      ]
     },
     "execution_count": 135,
     "metadata": {},
     "output_type": "execute_result"
    }
   ],
   "source": [
    "name_labels[22]"
   ]
  },
  {
   "cell_type": "code",
   "execution_count": null,
   "metadata": {},
   "outputs": [],
   "source": []
  },
  {
   "cell_type": "code",
   "execution_count": null,
   "metadata": {},
   "outputs": [],
   "source": []
  }
 ],
 "metadata": {
  "accelerator": "GPU",
  "colab": {
   "provenance": []
  },
  "kernelspec": {
   "display_name": "Python 3 (ipykernel)",
   "language": "python",
   "name": "python3"
  },
  "language_info": {
   "codemirror_mode": {
    "name": "ipython",
    "version": 3
   },
   "file_extension": ".py",
   "mimetype": "text/x-python",
   "name": "python",
   "nbconvert_exporter": "python",
   "pygments_lexer": "ipython3",
   "version": "3.9.16"
  }
 },
 "nbformat": 4,
 "nbformat_minor": 4
}
